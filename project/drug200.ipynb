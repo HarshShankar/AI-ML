{
 "cells": [
  {
   "cell_type": "code",
   "execution_count": 2,
   "metadata": {},
   "outputs": [],
   "source": [
    "import pandas as pd\n"
   ]
  },
  {
   "cell_type": "code",
   "execution_count": 3,
   "metadata": {},
   "outputs": [],
   "source": [
    "df=pd.read_csv('drug200.csv')\n"
   ]
  },
  {
   "cell_type": "code",
   "execution_count": 4,
   "metadata": {},
   "outputs": [
    {
     "data": {
      "text/html": [
       "<div>\n",
       "<style scoped>\n",
       "    .dataframe tbody tr th:only-of-type {\n",
       "        vertical-align: middle;\n",
       "    }\n",
       "\n",
       "    .dataframe tbody tr th {\n",
       "        vertical-align: top;\n",
       "    }\n",
       "\n",
       "    .dataframe thead th {\n",
       "        text-align: right;\n",
       "    }\n",
       "</style>\n",
       "<table border=\"1\" class=\"dataframe\">\n",
       "  <thead>\n",
       "    <tr style=\"text-align: right;\">\n",
       "      <th></th>\n",
       "      <th>Age</th>\n",
       "      <th>Sex</th>\n",
       "      <th>BP</th>\n",
       "      <th>Cholesterol</th>\n",
       "      <th>Na_to_K</th>\n",
       "      <th>Drug</th>\n",
       "    </tr>\n",
       "  </thead>\n",
       "  <tbody>\n",
       "    <tr>\n",
       "      <th>0</th>\n",
       "      <td>23</td>\n",
       "      <td>F</td>\n",
       "      <td>HIGH</td>\n",
       "      <td>HIGH</td>\n",
       "      <td>25.355</td>\n",
       "      <td>drugY</td>\n",
       "    </tr>\n",
       "    <tr>\n",
       "      <th>1</th>\n",
       "      <td>47</td>\n",
       "      <td>M</td>\n",
       "      <td>LOW</td>\n",
       "      <td>HIGH</td>\n",
       "      <td>13.093</td>\n",
       "      <td>drugC</td>\n",
       "    </tr>\n",
       "    <tr>\n",
       "      <th>2</th>\n",
       "      <td>47</td>\n",
       "      <td>M</td>\n",
       "      <td>LOW</td>\n",
       "      <td>HIGH</td>\n",
       "      <td>10.114</td>\n",
       "      <td>drugC</td>\n",
       "    </tr>\n",
       "    <tr>\n",
       "      <th>3</th>\n",
       "      <td>28</td>\n",
       "      <td>F</td>\n",
       "      <td>NORMAL</td>\n",
       "      <td>HIGH</td>\n",
       "      <td>7.798</td>\n",
       "      <td>drugX</td>\n",
       "    </tr>\n",
       "    <tr>\n",
       "      <th>4</th>\n",
       "      <td>61</td>\n",
       "      <td>F</td>\n",
       "      <td>LOW</td>\n",
       "      <td>HIGH</td>\n",
       "      <td>18.043</td>\n",
       "      <td>drugY</td>\n",
       "    </tr>\n",
       "    <tr>\n",
       "      <th>...</th>\n",
       "      <td>...</td>\n",
       "      <td>...</td>\n",
       "      <td>...</td>\n",
       "      <td>...</td>\n",
       "      <td>...</td>\n",
       "      <td>...</td>\n",
       "    </tr>\n",
       "    <tr>\n",
       "      <th>195</th>\n",
       "      <td>56</td>\n",
       "      <td>F</td>\n",
       "      <td>LOW</td>\n",
       "      <td>HIGH</td>\n",
       "      <td>11.567</td>\n",
       "      <td>drugC</td>\n",
       "    </tr>\n",
       "    <tr>\n",
       "      <th>196</th>\n",
       "      <td>16</td>\n",
       "      <td>M</td>\n",
       "      <td>LOW</td>\n",
       "      <td>HIGH</td>\n",
       "      <td>12.006</td>\n",
       "      <td>drugC</td>\n",
       "    </tr>\n",
       "    <tr>\n",
       "      <th>197</th>\n",
       "      <td>52</td>\n",
       "      <td>M</td>\n",
       "      <td>NORMAL</td>\n",
       "      <td>HIGH</td>\n",
       "      <td>9.894</td>\n",
       "      <td>drugX</td>\n",
       "    </tr>\n",
       "    <tr>\n",
       "      <th>198</th>\n",
       "      <td>23</td>\n",
       "      <td>M</td>\n",
       "      <td>NORMAL</td>\n",
       "      <td>NORMAL</td>\n",
       "      <td>14.020</td>\n",
       "      <td>drugX</td>\n",
       "    </tr>\n",
       "    <tr>\n",
       "      <th>199</th>\n",
       "      <td>40</td>\n",
       "      <td>F</td>\n",
       "      <td>LOW</td>\n",
       "      <td>NORMAL</td>\n",
       "      <td>11.349</td>\n",
       "      <td>drugX</td>\n",
       "    </tr>\n",
       "  </tbody>\n",
       "</table>\n",
       "<p>200 rows × 6 columns</p>\n",
       "</div>"
      ],
      "text/plain": [
       "     Age Sex      BP Cholesterol  Na_to_K   Drug\n",
       "0     23   F    HIGH        HIGH   25.355  drugY\n",
       "1     47   M     LOW        HIGH   13.093  drugC\n",
       "2     47   M     LOW        HIGH   10.114  drugC\n",
       "3     28   F  NORMAL        HIGH    7.798  drugX\n",
       "4     61   F     LOW        HIGH   18.043  drugY\n",
       "..   ...  ..     ...         ...      ...    ...\n",
       "195   56   F     LOW        HIGH   11.567  drugC\n",
       "196   16   M     LOW        HIGH   12.006  drugC\n",
       "197   52   M  NORMAL        HIGH    9.894  drugX\n",
       "198   23   M  NORMAL      NORMAL   14.020  drugX\n",
       "199   40   F     LOW      NORMAL   11.349  drugX\n",
       "\n",
       "[200 rows x 6 columns]"
      ]
     },
     "execution_count": 4,
     "metadata": {},
     "output_type": "execute_result"
    }
   ],
   "source": [
    "df\n"
   ]
  },
  {
   "cell_type": "code",
   "execution_count": 5,
   "metadata": {},
   "outputs": [
    {
     "data": {
      "text/plain": [
       "pandas.core.frame.DataFrame"
      ]
     },
     "execution_count": 5,
     "metadata": {},
     "output_type": "execute_result"
    }
   ],
   "source": [
    "type(df)"
   ]
  },
  {
   "cell_type": "code",
   "execution_count": 6,
   "metadata": {},
   "outputs": [],
   "source": [
    "from sklearn.preprocessing import LabelEncoder #importing sub library labelencoder from sklearn library,label encoder is used to convert non numeric data to numeric"
   ]
  },
  {
   "cell_type": "code",
   "execution_count": 7,
   "metadata": {},
   "outputs": [],
   "source": [
    "enc=LabelEncoder()"
   ]
  },
  {
   "cell_type": "code",
   "execution_count": 8,
   "metadata": {},
   "outputs": [],
   "source": [
    "enc.fit(df.Drug)\n",
    "df.Drug=enc.transform(df.Drug)\n",
    "# label encoder as sub function as fit maps the enc to color,enc.transform converts to numeric"
   ]
  },
  {
   "cell_type": "code",
   "execution_count": 9,
   "metadata": {},
   "outputs": [
    {
     "data": {
      "text/html": [
       "<div>\n",
       "<style scoped>\n",
       "    .dataframe tbody tr th:only-of-type {\n",
       "        vertical-align: middle;\n",
       "    }\n",
       "\n",
       "    .dataframe tbody tr th {\n",
       "        vertical-align: top;\n",
       "    }\n",
       "\n",
       "    .dataframe thead th {\n",
       "        text-align: right;\n",
       "    }\n",
       "</style>\n",
       "<table border=\"1\" class=\"dataframe\">\n",
       "  <thead>\n",
       "    <tr style=\"text-align: right;\">\n",
       "      <th></th>\n",
       "      <th>Age</th>\n",
       "      <th>Sex</th>\n",
       "      <th>BP</th>\n",
       "      <th>Cholesterol</th>\n",
       "      <th>Na_to_K</th>\n",
       "      <th>Drug</th>\n",
       "    </tr>\n",
       "  </thead>\n",
       "  <tbody>\n",
       "    <tr>\n",
       "      <th>0</th>\n",
       "      <td>23</td>\n",
       "      <td>F</td>\n",
       "      <td>HIGH</td>\n",
       "      <td>HIGH</td>\n",
       "      <td>25.355</td>\n",
       "      <td>4</td>\n",
       "    </tr>\n",
       "    <tr>\n",
       "      <th>1</th>\n",
       "      <td>47</td>\n",
       "      <td>M</td>\n",
       "      <td>LOW</td>\n",
       "      <td>HIGH</td>\n",
       "      <td>13.093</td>\n",
       "      <td>2</td>\n",
       "    </tr>\n",
       "    <tr>\n",
       "      <th>2</th>\n",
       "      <td>47</td>\n",
       "      <td>M</td>\n",
       "      <td>LOW</td>\n",
       "      <td>HIGH</td>\n",
       "      <td>10.114</td>\n",
       "      <td>2</td>\n",
       "    </tr>\n",
       "    <tr>\n",
       "      <th>3</th>\n",
       "      <td>28</td>\n",
       "      <td>F</td>\n",
       "      <td>NORMAL</td>\n",
       "      <td>HIGH</td>\n",
       "      <td>7.798</td>\n",
       "      <td>3</td>\n",
       "    </tr>\n",
       "    <tr>\n",
       "      <th>4</th>\n",
       "      <td>61</td>\n",
       "      <td>F</td>\n",
       "      <td>LOW</td>\n",
       "      <td>HIGH</td>\n",
       "      <td>18.043</td>\n",
       "      <td>4</td>\n",
       "    </tr>\n",
       "    <tr>\n",
       "      <th>...</th>\n",
       "      <td>...</td>\n",
       "      <td>...</td>\n",
       "      <td>...</td>\n",
       "      <td>...</td>\n",
       "      <td>...</td>\n",
       "      <td>...</td>\n",
       "    </tr>\n",
       "    <tr>\n",
       "      <th>195</th>\n",
       "      <td>56</td>\n",
       "      <td>F</td>\n",
       "      <td>LOW</td>\n",
       "      <td>HIGH</td>\n",
       "      <td>11.567</td>\n",
       "      <td>2</td>\n",
       "    </tr>\n",
       "    <tr>\n",
       "      <th>196</th>\n",
       "      <td>16</td>\n",
       "      <td>M</td>\n",
       "      <td>LOW</td>\n",
       "      <td>HIGH</td>\n",
       "      <td>12.006</td>\n",
       "      <td>2</td>\n",
       "    </tr>\n",
       "    <tr>\n",
       "      <th>197</th>\n",
       "      <td>52</td>\n",
       "      <td>M</td>\n",
       "      <td>NORMAL</td>\n",
       "      <td>HIGH</td>\n",
       "      <td>9.894</td>\n",
       "      <td>3</td>\n",
       "    </tr>\n",
       "    <tr>\n",
       "      <th>198</th>\n",
       "      <td>23</td>\n",
       "      <td>M</td>\n",
       "      <td>NORMAL</td>\n",
       "      <td>NORMAL</td>\n",
       "      <td>14.020</td>\n",
       "      <td>3</td>\n",
       "    </tr>\n",
       "    <tr>\n",
       "      <th>199</th>\n",
       "      <td>40</td>\n",
       "      <td>F</td>\n",
       "      <td>LOW</td>\n",
       "      <td>NORMAL</td>\n",
       "      <td>11.349</td>\n",
       "      <td>3</td>\n",
       "    </tr>\n",
       "  </tbody>\n",
       "</table>\n",
       "<p>200 rows × 6 columns</p>\n",
       "</div>"
      ],
      "text/plain": [
       "     Age Sex      BP Cholesterol  Na_to_K  Drug\n",
       "0     23   F    HIGH        HIGH   25.355     4\n",
       "1     47   M     LOW        HIGH   13.093     2\n",
       "2     47   M     LOW        HIGH   10.114     2\n",
       "3     28   F  NORMAL        HIGH    7.798     3\n",
       "4     61   F     LOW        HIGH   18.043     4\n",
       "..   ...  ..     ...         ...      ...   ...\n",
       "195   56   F     LOW        HIGH   11.567     2\n",
       "196   16   M     LOW        HIGH   12.006     2\n",
       "197   52   M  NORMAL        HIGH    9.894     3\n",
       "198   23   M  NORMAL      NORMAL   14.020     3\n",
       "199   40   F     LOW      NORMAL   11.349     3\n",
       "\n",
       "[200 rows x 6 columns]"
      ]
     },
     "execution_count": 9,
     "metadata": {},
     "output_type": "execute_result"
    }
   ],
   "source": [
    "df"
   ]
  },
  {
   "cell_type": "code",
   "execution_count": 10,
   "metadata": {},
   "outputs": [],
   "source": [
    "from sklearn.cluster import KMeans"
   ]
  },
  {
   "cell_type": "code",
   "execution_count": 11,
   "metadata": {},
   "outputs": [],
   "source": [
    "import matplotlib.pyplot as plt"
   ]
  },
  {
   "cell_type": "code",
   "execution_count": 12,
   "metadata": {},
   "outputs": [],
   "source": [
    "import numpy as np"
   ]
  },
  {
   "cell_type": "code",
   "execution_count": 13,
   "metadata": {},
   "outputs": [],
   "source": [
    "x=df.iloc[:,[4,5]].values"
   ]
  },
  {
   "cell_type": "code",
   "execution_count": 14,
   "metadata": {},
   "outputs": [
    {
     "data": {
      "text/plain": [
       "array([[25.355,  4.   ],\n",
       "       [13.093,  2.   ],\n",
       "       [10.114,  2.   ],\n",
       "       [ 7.798,  3.   ],\n",
       "       [18.043,  4.   ],\n",
       "       [ 8.607,  3.   ],\n",
       "       [16.275,  4.   ],\n",
       "       [11.037,  2.   ],\n",
       "       [15.171,  4.   ],\n",
       "       [19.368,  4.   ],\n",
       "       [11.767,  2.   ],\n",
       "       [19.199,  4.   ],\n",
       "       [15.376,  4.   ],\n",
       "       [20.942,  4.   ],\n",
       "       [12.703,  3.   ],\n",
       "       [15.516,  4.   ],\n",
       "       [11.455,  3.   ],\n",
       "       [13.972,  0.   ],\n",
       "       [ 7.298,  2.   ],\n",
       "       [25.974,  4.   ],\n",
       "       [19.128,  4.   ],\n",
       "       [25.917,  4.   ],\n",
       "       [30.568,  4.   ],\n",
       "       [15.036,  4.   ],\n",
       "       [33.486,  4.   ],\n",
       "       [18.809,  4.   ],\n",
       "       [30.366,  4.   ],\n",
       "       [ 9.381,  3.   ],\n",
       "       [22.697,  4.   ],\n",
       "       [17.951,  4.   ],\n",
       "       [ 8.75 ,  3.   ],\n",
       "       [ 9.567,  1.   ],\n",
       "       [11.014,  3.   ],\n",
       "       [31.876,  4.   ],\n",
       "       [14.133,  3.   ],\n",
       "       [ 7.285,  3.   ],\n",
       "       [ 9.445,  0.   ],\n",
       "       [13.938,  3.   ],\n",
       "       [ 9.709,  3.   ],\n",
       "       [ 9.084,  3.   ],\n",
       "       [19.221,  4.   ],\n",
       "       [14.239,  1.   ],\n",
       "       [15.79 ,  4.   ],\n",
       "       [12.26 ,  3.   ],\n",
       "       [12.295,  3.   ],\n",
       "       [ 8.107,  3.   ],\n",
       "       [13.091,  0.   ],\n",
       "       [10.291,  2.   ],\n",
       "       [31.686,  4.   ],\n",
       "       [19.796,  4.   ],\n",
       "       [19.416,  4.   ],\n",
       "       [10.898,  3.   ],\n",
       "       [27.183,  4.   ],\n",
       "       [18.457,  4.   ],\n",
       "       [10.189,  1.   ],\n",
       "       [14.16 ,  2.   ],\n",
       "       [11.34 ,  1.   ],\n",
       "       [27.826,  4.   ],\n",
       "       [10.091,  3.   ],\n",
       "       [18.703,  4.   ],\n",
       "       [29.875,  4.   ],\n",
       "       [ 9.475,  0.   ],\n",
       "       [20.693,  4.   ],\n",
       "       [ 8.37 ,  3.   ],\n",
       "       [13.303,  1.   ],\n",
       "       [27.05 ,  4.   ],\n",
       "       [12.856,  0.   ],\n",
       "       [10.832,  3.   ],\n",
       "       [24.658,  4.   ],\n",
       "       [24.276,  4.   ],\n",
       "       [13.967,  1.   ],\n",
       "       [19.675,  4.   ],\n",
       "       [10.605,  3.   ],\n",
       "       [22.905,  4.   ],\n",
       "       [17.069,  4.   ],\n",
       "       [20.909,  4.   ],\n",
       "       [11.198,  0.   ],\n",
       "       [19.161,  4.   ],\n",
       "       [13.313,  0.   ],\n",
       "       [10.84 ,  3.   ],\n",
       "       [13.934,  1.   ],\n",
       "       [ 7.761,  3.   ],\n",
       "       [ 9.712,  2.   ],\n",
       "       [11.326,  0.   ],\n",
       "       [10.067,  2.   ],\n",
       "       [13.935,  1.   ],\n",
       "       [13.597,  3.   ],\n",
       "       [15.478,  4.   ],\n",
       "       [23.091,  4.   ],\n",
       "       [17.211,  4.   ],\n",
       "       [16.594,  4.   ],\n",
       "       [15.156,  4.   ],\n",
       "       [29.45 ,  4.   ],\n",
       "       [29.271,  4.   ],\n",
       "       [15.015,  4.   ],\n",
       "       [11.424,  3.   ],\n",
       "       [38.247,  4.   ],\n",
       "       [25.395,  4.   ],\n",
       "       [35.639,  4.   ],\n",
       "       [16.725,  4.   ],\n",
       "       [11.871,  0.   ],\n",
       "       [12.854,  0.   ],\n",
       "       [13.127,  2.   ],\n",
       "       [ 8.966,  3.   ],\n",
       "       [28.294,  4.   ],\n",
       "       [ 8.968,  3.   ],\n",
       "       [11.953,  3.   ],\n",
       "       [20.013,  4.   ],\n",
       "       [ 9.677,  1.   ],\n",
       "       [16.85 ,  4.   ],\n",
       "       [ 7.49 ,  0.   ],\n",
       "       [ 6.683,  3.   ],\n",
       "       [ 9.17 ,  3.   ],\n",
       "       [13.769,  3.   ],\n",
       "       [ 9.281,  3.   ],\n",
       "       [18.295,  4.   ],\n",
       "       [ 9.514,  3.   ],\n",
       "       [10.103,  3.   ],\n",
       "       [10.292,  0.   ],\n",
       "       [25.475,  4.   ],\n",
       "       [27.064,  4.   ],\n",
       "       [17.206,  4.   ],\n",
       "       [22.456,  4.   ],\n",
       "       [16.753,  4.   ],\n",
       "       [12.495,  1.   ],\n",
       "       [25.969,  4.   ],\n",
       "       [16.347,  4.   ],\n",
       "       [ 7.845,  3.   ],\n",
       "       [33.542,  4.   ],\n",
       "       [ 7.477,  3.   ],\n",
       "       [20.489,  4.   ],\n",
       "       [32.922,  4.   ],\n",
       "       [13.598,  3.   ],\n",
       "       [25.786,  4.   ],\n",
       "       [21.036,  4.   ],\n",
       "       [11.939,  3.   ],\n",
       "       [10.977,  1.   ],\n",
       "       [12.894,  0.   ],\n",
       "       [11.343,  1.   ],\n",
       "       [10.065,  3.   ],\n",
       "       [ 6.269,  0.   ],\n",
       "       [25.741,  4.   ],\n",
       "       [ 8.621,  1.   ],\n",
       "       [15.436,  4.   ],\n",
       "       [ 9.664,  0.   ],\n",
       "       [ 9.443,  3.   ],\n",
       "       [12.006,  3.   ],\n",
       "       [12.307,  0.   ],\n",
       "       [ 7.34 ,  3.   ],\n",
       "       [ 8.151,  2.   ],\n",
       "       [ 8.7  ,  0.   ],\n",
       "       [11.009,  1.   ],\n",
       "       [ 7.261,  3.   ],\n",
       "       [14.642,  3.   ],\n",
       "       [16.724,  4.   ],\n",
       "       [10.537,  2.   ],\n",
       "       [11.227,  0.   ],\n",
       "       [22.963,  4.   ],\n",
       "       [10.444,  2.   ],\n",
       "       [12.923,  3.   ],\n",
       "       [10.443,  3.   ],\n",
       "       [ 9.945,  1.   ],\n",
       "       [12.859,  3.   ],\n",
       "       [28.632,  4.   ],\n",
       "       [19.007,  4.   ],\n",
       "       [18.295,  4.   ],\n",
       "       [26.645,  4.   ],\n",
       "       [14.216,  3.   ],\n",
       "       [23.003,  4.   ],\n",
       "       [11.262,  0.   ],\n",
       "       [12.879,  3.   ],\n",
       "       [10.017,  3.   ],\n",
       "       [17.225,  4.   ],\n",
       "       [18.739,  4.   ],\n",
       "       [12.766,  0.   ],\n",
       "       [18.348,  4.   ],\n",
       "       [10.446,  0.   ],\n",
       "       [19.011,  4.   ],\n",
       "       [15.969,  4.   ],\n",
       "       [15.891,  4.   ],\n",
       "       [22.818,  4.   ],\n",
       "       [13.884,  3.   ],\n",
       "       [11.686,  3.   ],\n",
       "       [15.49 ,  4.   ],\n",
       "       [37.188,  4.   ],\n",
       "       [25.893,  4.   ],\n",
       "       [ 9.849,  1.   ],\n",
       "       [10.403,  0.   ],\n",
       "       [34.997,  4.   ],\n",
       "       [20.932,  4.   ],\n",
       "       [18.991,  4.   ],\n",
       "       [ 8.011,  0.   ],\n",
       "       [16.31 ,  4.   ],\n",
       "       [ 6.769,  2.   ],\n",
       "       [34.686,  4.   ],\n",
       "       [11.567,  2.   ],\n",
       "       [12.006,  2.   ],\n",
       "       [ 9.894,  3.   ],\n",
       "       [14.02 ,  3.   ],\n",
       "       [11.349,  3.   ]])"
      ]
     },
     "execution_count": 14,
     "metadata": {},
     "output_type": "execute_result"
    }
   ],
   "source": [
    "x"
   ]
  },
  {
   "cell_type": "code",
   "execution_count": 15,
   "metadata": {},
   "outputs": [],
   "source": [
    "from sklearn.cluster import KMeans"
   ]
  },
  {
   "cell_type": "code",
   "execution_count": 16,
   "metadata": {},
   "outputs": [],
   "source": [
    "import matplotlib.pyplot as plt"
   ]
  },
  {
   "cell_type": "code",
   "execution_count": 17,
   "metadata": {},
   "outputs": [],
   "source": [
    "import numpy as np"
   ]
  },
  {
   "cell_type": "code",
   "execution_count": 18,
   "metadata": {},
   "outputs": [
    {
     "data": {
      "text/plain": [
       "Text(0, 0.5, 'WCSS-within cluster of square sums')"
      ]
     },
     "execution_count": 18,
     "metadata": {},
     "output_type": "execute_result"
    },
    {
     "data": {
      "image/png": "[encoded data removed]",
      "text/plain": [
       "<Figure size 432x288 with 1 Axes>"
      ]
     },
     "metadata": {
      "needs_background": "light"
     },
     "output_type": "display_data"
    }
   ],
   "source": [
    "abc=[]\n",
    "for i in range(1,15):\n",
    "    model=KMeans(n_clusters=i)\n",
    "    model.fit(x)\n",
    "    abc.append(model.inertia_)\n",
    "    \n",
    "plt.plot(range(1,15),abc)\n",
    "plt.title('The Elbow Method')\n",
    "plt.xlabel('Number of clusters')\n",
    "plt.ylabel('WCSS-within cluster of square sums')"
   ]
  },
  {
   "cell_type": "code",
   "execution_count": 19,
   "metadata": {},
   "outputs": [
    {
     "data": {
      "text/plain": [
       "[10759.541161955,\n",
       " 3278.097750495106,\n",
       " 1455.1139422998917,\n",
       " 995.5908761533933,\n",
       " 668.1978565423107,\n",
       " 523.4148520518722,\n",
       " 441.0476245471361,\n",
       " 348.5196930611472,\n",
       " 288.2250654657347,\n",
       " 240.24220852794588,\n",
       " 192.79288361595928,\n",
       " 168.95213749872266,\n",
       " 145.88766366337723,\n",
       " 128.4008827720352]"
      ]
     },
     "execution_count": 19,
     "metadata": {},
     "output_type": "execute_result"
    }
   ],
   "source": [
    "abc"
   ]
  },
  {
   "cell_type": "code",
   "execution_count": 20,
   "metadata": {},
   "outputs": [
    {
     "data": {
      "text/plain": [
       "KMeans(algorithm='auto', copy_x=True, init='k-means++', max_iter=300,\n",
       "       n_clusters=4, n_init=10, n_jobs=None, precompute_distances='auto',\n",
       "       random_state=None, tol=0.0001, verbose=0)"
      ]
     },
     "execution_count": 20,
     "metadata": {},
     "output_type": "execute_result"
    }
   ],
   "source": [
    "model=KMeans(n_clusters=4)\n",
    "model.fit(x)"
   ]
  },
  {
   "cell_type": "code",
   "execution_count": 21,
   "metadata": {},
   "outputs": [],
   "source": [
    "y_model=model.predict(x)"
   ]
  },
  {
   "cell_type": "code",
   "execution_count": 22,
   "metadata": {},
   "outputs": [
    {
     "data": {
      "text/plain": [
       "<matplotlib.collections.PathCollection at 0x20739e56ef0>"
      ]
     },
     "execution_count": 22,
     "metadata": {},
     "output_type": "execute_result"
    },
    {
     "data": {
      "image/png": "[encoded data removed]",
      "text/plain": [
       "<Figure size 432x288 with 1 Axes>"
      ]
     },
     "metadata": {
      "needs_background": "light"
     },
     "output_type": "display_data"
    }
   ],
   "source": [
    "plt.scatter(x[y_model==0,0],x[y_model==0,1])\n",
    "plt.scatter(x[y_model==1,0],x[y_model==1,1])\n",
    "plt.scatter(x[y_model==2,0],x[y_model==2,1])\n",
    "plt.scatter(x[y_model==3,0],x[y_model==3,1])\n",
    "plt.xlabel('Na_to_k')\n",
    "plt.ylabel('drugs')\n",
    "plt.scatter(model.cluster_centers_[:,0],model.cluster_centers_[:,1],s=300,c='yellow')"
   ]
  },
  {
   "cell_type": "code",
   "execution_count": 23,
   "metadata": {},
   "outputs": [],
   "source": [
    "import pandas as pd"
   ]
  },
  {
   "cell_type": "code",
   "execution_count": 24,
   "metadata": {},
   "outputs": [],
   "source": [
    "df=pd.read_csv(\"drug200.csv\")"
   ]
  },
  {
   "cell_type": "code",
   "execution_count": 25,
   "metadata": {},
   "outputs": [
    {
     "data": {
      "text/html": [
       "<div>\n",
       "<style scoped>\n",
       "    .dataframe tbody tr th:only-of-type {\n",
       "        vertical-align: middle;\n",
       "    }\n",
       "\n",
       "    .dataframe tbody tr th {\n",
       "        vertical-align: top;\n",
       "    }\n",
       "\n",
       "    .dataframe thead th {\n",
       "        text-align: right;\n",
       "    }\n",
       "</style>\n",
       "<table border=\"1\" class=\"dataframe\">\n",
       "  <thead>\n",
       "    <tr style=\"text-align: right;\">\n",
       "      <th></th>\n",
       "      <th>Age</th>\n",
       "      <th>Sex</th>\n",
       "      <th>BP</th>\n",
       "      <th>Cholesterol</th>\n",
       "      <th>Na_to_K</th>\n",
       "      <th>Drug</th>\n",
       "    </tr>\n",
       "  </thead>\n",
       "  <tbody>\n",
       "    <tr>\n",
       "      <th>0</th>\n",
       "      <td>23</td>\n",
       "      <td>F</td>\n",
       "      <td>HIGH</td>\n",
       "      <td>HIGH</td>\n",
       "      <td>25.355</td>\n",
       "      <td>drugY</td>\n",
       "    </tr>\n",
       "    <tr>\n",
       "      <th>1</th>\n",
       "      <td>47</td>\n",
       "      <td>M</td>\n",
       "      <td>LOW</td>\n",
       "      <td>HIGH</td>\n",
       "      <td>13.093</td>\n",
       "      <td>drugC</td>\n",
       "    </tr>\n",
       "    <tr>\n",
       "      <th>2</th>\n",
       "      <td>47</td>\n",
       "      <td>M</td>\n",
       "      <td>LOW</td>\n",
       "      <td>HIGH</td>\n",
       "      <td>10.114</td>\n",
       "      <td>drugC</td>\n",
       "    </tr>\n",
       "    <tr>\n",
       "      <th>3</th>\n",
       "      <td>28</td>\n",
       "      <td>F</td>\n",
       "      <td>NORMAL</td>\n",
       "      <td>HIGH</td>\n",
       "      <td>7.798</td>\n",
       "      <td>drugX</td>\n",
       "    </tr>\n",
       "    <tr>\n",
       "      <th>4</th>\n",
       "      <td>61</td>\n",
       "      <td>F</td>\n",
       "      <td>LOW</td>\n",
       "      <td>HIGH</td>\n",
       "      <td>18.043</td>\n",
       "      <td>drugY</td>\n",
       "    </tr>\n",
       "    <tr>\n",
       "      <th>...</th>\n",
       "      <td>...</td>\n",
       "      <td>...</td>\n",
       "      <td>...</td>\n",
       "      <td>...</td>\n",
       "      <td>...</td>\n",
       "      <td>...</td>\n",
       "    </tr>\n",
       "    <tr>\n",
       "      <th>195</th>\n",
       "      <td>56</td>\n",
       "      <td>F</td>\n",
       "      <td>LOW</td>\n",
       "      <td>HIGH</td>\n",
       "      <td>11.567</td>\n",
       "      <td>drugC</td>\n",
       "    </tr>\n",
       "    <tr>\n",
       "      <th>196</th>\n",
       "      <td>16</td>\n",
       "      <td>M</td>\n",
       "      <td>LOW</td>\n",
       "      <td>HIGH</td>\n",
       "      <td>12.006</td>\n",
       "      <td>drugC</td>\n",
       "    </tr>\n",
       "    <tr>\n",
       "      <th>197</th>\n",
       "      <td>52</td>\n",
       "      <td>M</td>\n",
       "      <td>NORMAL</td>\n",
       "      <td>HIGH</td>\n",
       "      <td>9.894</td>\n",
       "      <td>drugX</td>\n",
       "    </tr>\n",
       "    <tr>\n",
       "      <th>198</th>\n",
       "      <td>23</td>\n",
       "      <td>M</td>\n",
       "      <td>NORMAL</td>\n",
       "      <td>NORMAL</td>\n",
       "      <td>14.020</td>\n",
       "      <td>drugX</td>\n",
       "    </tr>\n",
       "    <tr>\n",
       "      <th>199</th>\n",
       "      <td>40</td>\n",
       "      <td>F</td>\n",
       "      <td>LOW</td>\n",
       "      <td>NORMAL</td>\n",
       "      <td>11.349</td>\n",
       "      <td>drugX</td>\n",
       "    </tr>\n",
       "  </tbody>\n",
       "</table>\n",
       "<p>200 rows × 6 columns</p>\n",
       "</div>"
      ],
      "text/plain": [
       "     Age Sex      BP Cholesterol  Na_to_K   Drug\n",
       "0     23   F    HIGH        HIGH   25.355  drugY\n",
       "1     47   M     LOW        HIGH   13.093  drugC\n",
       "2     47   M     LOW        HIGH   10.114  drugC\n",
       "3     28   F  NORMAL        HIGH    7.798  drugX\n",
       "4     61   F     LOW        HIGH   18.043  drugY\n",
       "..   ...  ..     ...         ...      ...    ...\n",
       "195   56   F     LOW        HIGH   11.567  drugC\n",
       "196   16   M     LOW        HIGH   12.006  drugC\n",
       "197   52   M  NORMAL        HIGH    9.894  drugX\n",
       "198   23   M  NORMAL      NORMAL   14.020  drugX\n",
       "199   40   F     LOW      NORMAL   11.349  drugX\n",
       "\n",
       "[200 rows x 6 columns]"
      ]
     },
     "execution_count": 25,
     "metadata": {},
     "output_type": "execute_result"
    }
   ],
   "source": [
    "df"
   ]
  },
  {
   "cell_type": "code",
   "execution_count": 26,
   "metadata": {},
   "outputs": [],
   "source": [
    "from sklearn.preprocessing import LabelEncoder"
   ]
  },
  {
   "cell_type": "code",
   "execution_count": 27,
   "metadata": {},
   "outputs": [],
   "source": [
    "enc=LabelEncoder()"
   ]
  },
  {
   "cell_type": "code",
   "execution_count": 28,
   "metadata": {},
   "outputs": [],
   "source": [
    "enc.fit(df.Sex)\n",
    "df.Sex=enc.transform(df.Sex)"
   ]
  },
  {
   "cell_type": "code",
   "execution_count": 29,
   "metadata": {},
   "outputs": [
    {
     "data": {
      "text/html": [
       "<div>\n",
       "<style scoped>\n",
       "    .dataframe tbody tr th:only-of-type {\n",
       "        vertical-align: middle;\n",
       "    }\n",
       "\n",
       "    .dataframe tbody tr th {\n",
       "        vertical-align: top;\n",
       "    }\n",
       "\n",
       "    .dataframe thead th {\n",
       "        text-align: right;\n",
       "    }\n",
       "</style>\n",
       "<table border=\"1\" class=\"dataframe\">\n",
       "  <thead>\n",
       "    <tr style=\"text-align: right;\">\n",
       "      <th></th>\n",
       "      <th>Age</th>\n",
       "      <th>Sex</th>\n",
       "      <th>BP</th>\n",
       "      <th>Cholesterol</th>\n",
       "      <th>Na_to_K</th>\n",
       "      <th>Drug</th>\n",
       "    </tr>\n",
       "  </thead>\n",
       "  <tbody>\n",
       "    <tr>\n",
       "      <th>0</th>\n",
       "      <td>23</td>\n",
       "      <td>0</td>\n",
       "      <td>HIGH</td>\n",
       "      <td>HIGH</td>\n",
       "      <td>25.355</td>\n",
       "      <td>drugY</td>\n",
       "    </tr>\n",
       "    <tr>\n",
       "      <th>1</th>\n",
       "      <td>47</td>\n",
       "      <td>1</td>\n",
       "      <td>LOW</td>\n",
       "      <td>HIGH</td>\n",
       "      <td>13.093</td>\n",
       "      <td>drugC</td>\n",
       "    </tr>\n",
       "    <tr>\n",
       "      <th>2</th>\n",
       "      <td>47</td>\n",
       "      <td>1</td>\n",
       "      <td>LOW</td>\n",
       "      <td>HIGH</td>\n",
       "      <td>10.114</td>\n",
       "      <td>drugC</td>\n",
       "    </tr>\n",
       "    <tr>\n",
       "      <th>3</th>\n",
       "      <td>28</td>\n",
       "      <td>0</td>\n",
       "      <td>NORMAL</td>\n",
       "      <td>HIGH</td>\n",
       "      <td>7.798</td>\n",
       "      <td>drugX</td>\n",
       "    </tr>\n",
       "    <tr>\n",
       "      <th>4</th>\n",
       "      <td>61</td>\n",
       "      <td>0</td>\n",
       "      <td>LOW</td>\n",
       "      <td>HIGH</td>\n",
       "      <td>18.043</td>\n",
       "      <td>drugY</td>\n",
       "    </tr>\n",
       "    <tr>\n",
       "      <th>...</th>\n",
       "      <td>...</td>\n",
       "      <td>...</td>\n",
       "      <td>...</td>\n",
       "      <td>...</td>\n",
       "      <td>...</td>\n",
       "      <td>...</td>\n",
       "    </tr>\n",
       "    <tr>\n",
       "      <th>195</th>\n",
       "      <td>56</td>\n",
       "      <td>0</td>\n",
       "      <td>LOW</td>\n",
       "      <td>HIGH</td>\n",
       "      <td>11.567</td>\n",
       "      <td>drugC</td>\n",
       "    </tr>\n",
       "    <tr>\n",
       "      <th>196</th>\n",
       "      <td>16</td>\n",
       "      <td>1</td>\n",
       "      <td>LOW</td>\n",
       "      <td>HIGH</td>\n",
       "      <td>12.006</td>\n",
       "      <td>drugC</td>\n",
       "    </tr>\n",
       "    <tr>\n",
       "      <th>197</th>\n",
       "      <td>52</td>\n",
       "      <td>1</td>\n",
       "      <td>NORMAL</td>\n",
       "      <td>HIGH</td>\n",
       "      <td>9.894</td>\n",
       "      <td>drugX</td>\n",
       "    </tr>\n",
       "    <tr>\n",
       "      <th>198</th>\n",
       "      <td>23</td>\n",
       "      <td>1</td>\n",
       "      <td>NORMAL</td>\n",
       "      <td>NORMAL</td>\n",
       "      <td>14.020</td>\n",
       "      <td>drugX</td>\n",
       "    </tr>\n",
       "    <tr>\n",
       "      <th>199</th>\n",
       "      <td>40</td>\n",
       "      <td>0</td>\n",
       "      <td>LOW</td>\n",
       "      <td>NORMAL</td>\n",
       "      <td>11.349</td>\n",
       "      <td>drugX</td>\n",
       "    </tr>\n",
       "  </tbody>\n",
       "</table>\n",
       "<p>200 rows × 6 columns</p>\n",
       "</div>"
      ],
      "text/plain": [
       "     Age  Sex      BP Cholesterol  Na_to_K   Drug\n",
       "0     23    0    HIGH        HIGH   25.355  drugY\n",
       "1     47    1     LOW        HIGH   13.093  drugC\n",
       "2     47    1     LOW        HIGH   10.114  drugC\n",
       "3     28    0  NORMAL        HIGH    7.798  drugX\n",
       "4     61    0     LOW        HIGH   18.043  drugY\n",
       "..   ...  ...     ...         ...      ...    ...\n",
       "195   56    0     LOW        HIGH   11.567  drugC\n",
       "196   16    1     LOW        HIGH   12.006  drugC\n",
       "197   52    1  NORMAL        HIGH    9.894  drugX\n",
       "198   23    1  NORMAL      NORMAL   14.020  drugX\n",
       "199   40    0     LOW      NORMAL   11.349  drugX\n",
       "\n",
       "[200 rows x 6 columns]"
      ]
     },
     "execution_count": 29,
     "metadata": {},
     "output_type": "execute_result"
    }
   ],
   "source": [
    "df"
   ]
  },
  {
   "cell_type": "code",
   "execution_count": 30,
   "metadata": {},
   "outputs": [],
   "source": [
    "enc1=LabelEncoder()"
   ]
  },
  {
   "cell_type": "code",
   "execution_count": 31,
   "metadata": {},
   "outputs": [],
   "source": [
    "enc1.fit(df.BP)\n",
    "df.BP=enc1.transform(df.BP)"
   ]
  },
  {
   "cell_type": "code",
   "execution_count": 32,
   "metadata": {},
   "outputs": [
    {
     "data": {
      "text/html": [
       "<div>\n",
       "<style scoped>\n",
       "    .dataframe tbody tr th:only-of-type {\n",
       "        vertical-align: middle;\n",
       "    }\n",
       "\n",
       "    .dataframe tbody tr th {\n",
       "        vertical-align: top;\n",
       "    }\n",
       "\n",
       "    .dataframe thead th {\n",
       "        text-align: right;\n",
       "    }\n",
       "</style>\n",
       "<table border=\"1\" class=\"dataframe\">\n",
       "  <thead>\n",
       "    <tr style=\"text-align: right;\">\n",
       "      <th></th>\n",
       "      <th>Age</th>\n",
       "      <th>Sex</th>\n",
       "      <th>BP</th>\n",
       "      <th>Cholesterol</th>\n",
       "      <th>Na_to_K</th>\n",
       "      <th>Drug</th>\n",
       "    </tr>\n",
       "  </thead>\n",
       "  <tbody>\n",
       "    <tr>\n",
       "      <th>0</th>\n",
       "      <td>23</td>\n",
       "      <td>0</td>\n",
       "      <td>0</td>\n",
       "      <td>HIGH</td>\n",
       "      <td>25.355</td>\n",
       "      <td>drugY</td>\n",
       "    </tr>\n",
       "    <tr>\n",
       "      <th>1</th>\n",
       "      <td>47</td>\n",
       "      <td>1</td>\n",
       "      <td>1</td>\n",
       "      <td>HIGH</td>\n",
       "      <td>13.093</td>\n",
       "      <td>drugC</td>\n",
       "    </tr>\n",
       "    <tr>\n",
       "      <th>2</th>\n",
       "      <td>47</td>\n",
       "      <td>1</td>\n",
       "      <td>1</td>\n",
       "      <td>HIGH</td>\n",
       "      <td>10.114</td>\n",
       "      <td>drugC</td>\n",
       "    </tr>\n",
       "    <tr>\n",
       "      <th>3</th>\n",
       "      <td>28</td>\n",
       "      <td>0</td>\n",
       "      <td>2</td>\n",
       "      <td>HIGH</td>\n",
       "      <td>7.798</td>\n",
       "      <td>drugX</td>\n",
       "    </tr>\n",
       "    <tr>\n",
       "      <th>4</th>\n",
       "      <td>61</td>\n",
       "      <td>0</td>\n",
       "      <td>1</td>\n",
       "      <td>HIGH</td>\n",
       "      <td>18.043</td>\n",
       "      <td>drugY</td>\n",
       "    </tr>\n",
       "    <tr>\n",
       "      <th>...</th>\n",
       "      <td>...</td>\n",
       "      <td>...</td>\n",
       "      <td>...</td>\n",
       "      <td>...</td>\n",
       "      <td>...</td>\n",
       "      <td>...</td>\n",
       "    </tr>\n",
       "    <tr>\n",
       "      <th>195</th>\n",
       "      <td>56</td>\n",
       "      <td>0</td>\n",
       "      <td>1</td>\n",
       "      <td>HIGH</td>\n",
       "      <td>11.567</td>\n",
       "      <td>drugC</td>\n",
       "    </tr>\n",
       "    <tr>\n",
       "      <th>196</th>\n",
       "      <td>16</td>\n",
       "      <td>1</td>\n",
       "      <td>1</td>\n",
       "      <td>HIGH</td>\n",
       "      <td>12.006</td>\n",
       "      <td>drugC</td>\n",
       "    </tr>\n",
       "    <tr>\n",
       "      <th>197</th>\n",
       "      <td>52</td>\n",
       "      <td>1</td>\n",
       "      <td>2</td>\n",
       "      <td>HIGH</td>\n",
       "      <td>9.894</td>\n",
       "      <td>drugX</td>\n",
       "    </tr>\n",
       "    <tr>\n",
       "      <th>198</th>\n",
       "      <td>23</td>\n",
       "      <td>1</td>\n",
       "      <td>2</td>\n",
       "      <td>NORMAL</td>\n",
       "      <td>14.020</td>\n",
       "      <td>drugX</td>\n",
       "    </tr>\n",
       "    <tr>\n",
       "      <th>199</th>\n",
       "      <td>40</td>\n",
       "      <td>0</td>\n",
       "      <td>1</td>\n",
       "      <td>NORMAL</td>\n",
       "      <td>11.349</td>\n",
       "      <td>drugX</td>\n",
       "    </tr>\n",
       "  </tbody>\n",
       "</table>\n",
       "<p>200 rows × 6 columns</p>\n",
       "</div>"
      ],
      "text/plain": [
       "     Age  Sex  BP Cholesterol  Na_to_K   Drug\n",
       "0     23    0   0        HIGH   25.355  drugY\n",
       "1     47    1   1        HIGH   13.093  drugC\n",
       "2     47    1   1        HIGH   10.114  drugC\n",
       "3     28    0   2        HIGH    7.798  drugX\n",
       "4     61    0   1        HIGH   18.043  drugY\n",
       "..   ...  ...  ..         ...      ...    ...\n",
       "195   56    0   1        HIGH   11.567  drugC\n",
       "196   16    1   1        HIGH   12.006  drugC\n",
       "197   52    1   2        HIGH    9.894  drugX\n",
       "198   23    1   2      NORMAL   14.020  drugX\n",
       "199   40    0   1      NORMAL   11.349  drugX\n",
       "\n",
       "[200 rows x 6 columns]"
      ]
     },
     "execution_count": 32,
     "metadata": {},
     "output_type": "execute_result"
    }
   ],
   "source": [
    "df"
   ]
  },
  {
   "cell_type": "code",
   "execution_count": 33,
   "metadata": {},
   "outputs": [],
   "source": [
    "enc2=LabelEncoder()"
   ]
  },
  {
   "cell_type": "code",
   "execution_count": 34,
   "metadata": {},
   "outputs": [],
   "source": [
    "enc2.fit(df.Cholesterol)\n",
    "df.Cholesterol=enc2.transform(df.Cholesterol)"
   ]
  },
  {
   "cell_type": "code",
   "execution_count": 35,
   "metadata": {},
   "outputs": [
    {
     "data": {
      "text/html": [
       "<div>\n",
       "<style scoped>\n",
       "    .dataframe tbody tr th:only-of-type {\n",
       "        vertical-align: middle;\n",
       "    }\n",
       "\n",
       "    .dataframe tbody tr th {\n",
       "        vertical-align: top;\n",
       "    }\n",
       "\n",
       "    .dataframe thead th {\n",
       "        text-align: right;\n",
       "    }\n",
       "</style>\n",
       "<table border=\"1\" class=\"dataframe\">\n",
       "  <thead>\n",
       "    <tr style=\"text-align: right;\">\n",
       "      <th></th>\n",
       "      <th>Age</th>\n",
       "      <th>Sex</th>\n",
       "      <th>BP</th>\n",
       "      <th>Cholesterol</th>\n",
       "      <th>Na_to_K</th>\n",
       "      <th>Drug</th>\n",
       "    </tr>\n",
       "  </thead>\n",
       "  <tbody>\n",
       "    <tr>\n",
       "      <th>0</th>\n",
       "      <td>23</td>\n",
       "      <td>0</td>\n",
       "      <td>0</td>\n",
       "      <td>0</td>\n",
       "      <td>25.355</td>\n",
       "      <td>drugY</td>\n",
       "    </tr>\n",
       "    <tr>\n",
       "      <th>1</th>\n",
       "      <td>47</td>\n",
       "      <td>1</td>\n",
       "      <td>1</td>\n",
       "      <td>0</td>\n",
       "      <td>13.093</td>\n",
       "      <td>drugC</td>\n",
       "    </tr>\n",
       "    <tr>\n",
       "      <th>2</th>\n",
       "      <td>47</td>\n",
       "      <td>1</td>\n",
       "      <td>1</td>\n",
       "      <td>0</td>\n",
       "      <td>10.114</td>\n",
       "      <td>drugC</td>\n",
       "    </tr>\n",
       "    <tr>\n",
       "      <th>3</th>\n",
       "      <td>28</td>\n",
       "      <td>0</td>\n",
       "      <td>2</td>\n",
       "      <td>0</td>\n",
       "      <td>7.798</td>\n",
       "      <td>drugX</td>\n",
       "    </tr>\n",
       "    <tr>\n",
       "      <th>4</th>\n",
       "      <td>61</td>\n",
       "      <td>0</td>\n",
       "      <td>1</td>\n",
       "      <td>0</td>\n",
       "      <td>18.043</td>\n",
       "      <td>drugY</td>\n",
       "    </tr>\n",
       "    <tr>\n",
       "      <th>...</th>\n",
       "      <td>...</td>\n",
       "      <td>...</td>\n",
       "      <td>...</td>\n",
       "      <td>...</td>\n",
       "      <td>...</td>\n",
       "      <td>...</td>\n",
       "    </tr>\n",
       "    <tr>\n",
       "      <th>195</th>\n",
       "      <td>56</td>\n",
       "      <td>0</td>\n",
       "      <td>1</td>\n",
       "      <td>0</td>\n",
       "      <td>11.567</td>\n",
       "      <td>drugC</td>\n",
       "    </tr>\n",
       "    <tr>\n",
       "      <th>196</th>\n",
       "      <td>16</td>\n",
       "      <td>1</td>\n",
       "      <td>1</td>\n",
       "      <td>0</td>\n",
       "      <td>12.006</td>\n",
       "      <td>drugC</td>\n",
       "    </tr>\n",
       "    <tr>\n",
       "      <th>197</th>\n",
       "      <td>52</td>\n",
       "      <td>1</td>\n",
       "      <td>2</td>\n",
       "      <td>0</td>\n",
       "      <td>9.894</td>\n",
       "      <td>drugX</td>\n",
       "    </tr>\n",
       "    <tr>\n",
       "      <th>198</th>\n",
       "      <td>23</td>\n",
       "      <td>1</td>\n",
       "      <td>2</td>\n",
       "      <td>1</td>\n",
       "      <td>14.020</td>\n",
       "      <td>drugX</td>\n",
       "    </tr>\n",
       "    <tr>\n",
       "      <th>199</th>\n",
       "      <td>40</td>\n",
       "      <td>0</td>\n",
       "      <td>1</td>\n",
       "      <td>1</td>\n",
       "      <td>11.349</td>\n",
       "      <td>drugX</td>\n",
       "    </tr>\n",
       "  </tbody>\n",
       "</table>\n",
       "<p>200 rows × 6 columns</p>\n",
       "</div>"
      ],
      "text/plain": [
       "     Age  Sex  BP  Cholesterol  Na_to_K   Drug\n",
       "0     23    0   0            0   25.355  drugY\n",
       "1     47    1   1            0   13.093  drugC\n",
       "2     47    1   1            0   10.114  drugC\n",
       "3     28    0   2            0    7.798  drugX\n",
       "4     61    0   1            0   18.043  drugY\n",
       "..   ...  ...  ..          ...      ...    ...\n",
       "195   56    0   1            0   11.567  drugC\n",
       "196   16    1   1            0   12.006  drugC\n",
       "197   52    1   2            0    9.894  drugX\n",
       "198   23    1   2            1   14.020  drugX\n",
       "199   40    0   1            1   11.349  drugX\n",
       "\n",
       "[200 rows x 6 columns]"
      ]
     },
     "execution_count": 35,
     "metadata": {},
     "output_type": "execute_result"
    }
   ],
   "source": [
    "df"
   ]
  },
  {
   "cell_type": "code",
   "execution_count": 36,
   "metadata": {},
   "outputs": [
    {
     "data": {
      "text/html": [
       "<div>\n",
       "<style scoped>\n",
       "    .dataframe tbody tr th:only-of-type {\n",
       "        vertical-align: middle;\n",
       "    }\n",
       "\n",
       "    .dataframe tbody tr th {\n",
       "        vertical-align: top;\n",
       "    }\n",
       "\n",
       "    .dataframe thead th {\n",
       "        text-align: right;\n",
       "    }\n",
       "</style>\n",
       "<table border=\"1\" class=\"dataframe\">\n",
       "  <thead>\n",
       "    <tr style=\"text-align: right;\">\n",
       "      <th></th>\n",
       "      <th>Age</th>\n",
       "      <th>Sex</th>\n",
       "      <th>BP</th>\n",
       "      <th>Cholesterol</th>\n",
       "      <th>Na_to_K</th>\n",
       "      <th>Drug</th>\n",
       "    </tr>\n",
       "  </thead>\n",
       "  <tbody>\n",
       "    <tr>\n",
       "      <th>195</th>\n",
       "      <td>56</td>\n",
       "      <td>0</td>\n",
       "      <td>1</td>\n",
       "      <td>0</td>\n",
       "      <td>11.567</td>\n",
       "      <td>drugC</td>\n",
       "    </tr>\n",
       "    <tr>\n",
       "      <th>196</th>\n",
       "      <td>16</td>\n",
       "      <td>1</td>\n",
       "      <td>1</td>\n",
       "      <td>0</td>\n",
       "      <td>12.006</td>\n",
       "      <td>drugC</td>\n",
       "    </tr>\n",
       "    <tr>\n",
       "      <th>197</th>\n",
       "      <td>52</td>\n",
       "      <td>1</td>\n",
       "      <td>2</td>\n",
       "      <td>0</td>\n",
       "      <td>9.894</td>\n",
       "      <td>drugX</td>\n",
       "    </tr>\n",
       "    <tr>\n",
       "      <th>198</th>\n",
       "      <td>23</td>\n",
       "      <td>1</td>\n",
       "      <td>2</td>\n",
       "      <td>1</td>\n",
       "      <td>14.020</td>\n",
       "      <td>drugX</td>\n",
       "    </tr>\n",
       "    <tr>\n",
       "      <th>199</th>\n",
       "      <td>40</td>\n",
       "      <td>0</td>\n",
       "      <td>1</td>\n",
       "      <td>1</td>\n",
       "      <td>11.349</td>\n",
       "      <td>drugX</td>\n",
       "    </tr>\n",
       "  </tbody>\n",
       "</table>\n",
       "</div>"
      ],
      "text/plain": [
       "     Age  Sex  BP  Cholesterol  Na_to_K   Drug\n",
       "195   56    0   1            0   11.567  drugC\n",
       "196   16    1   1            0   12.006  drugC\n",
       "197   52    1   2            0    9.894  drugX\n",
       "198   23    1   2            1   14.020  drugX\n",
       "199   40    0   1            1   11.349  drugX"
      ]
     },
     "execution_count": 36,
     "metadata": {},
     "output_type": "execute_result"
    }
   ],
   "source": [
    "df.tail()"
   ]
  },
  {
   "cell_type": "code",
   "execution_count": 37,
   "metadata": {},
   "outputs": [
    {
     "data": {
      "text/html": [
       "<div>\n",
       "<style scoped>\n",
       "    .dataframe tbody tr th:only-of-type {\n",
       "        vertical-align: middle;\n",
       "    }\n",
       "\n",
       "    .dataframe tbody tr th {\n",
       "        vertical-align: top;\n",
       "    }\n",
       "\n",
       "    .dataframe thead th {\n",
       "        text-align: right;\n",
       "    }\n",
       "</style>\n",
       "<table border=\"1\" class=\"dataframe\">\n",
       "  <thead>\n",
       "    <tr style=\"text-align: right;\">\n",
       "      <th></th>\n",
       "      <th>Age</th>\n",
       "      <th>Sex</th>\n",
       "      <th>BP</th>\n",
       "      <th>Cholesterol</th>\n",
       "      <th>Na_to_K</th>\n",
       "      <th>Drug</th>\n",
       "    </tr>\n",
       "  </thead>\n",
       "  <tbody>\n",
       "    <tr>\n",
       "      <th>0</th>\n",
       "      <td>23</td>\n",
       "      <td>0</td>\n",
       "      <td>0</td>\n",
       "      <td>0</td>\n",
       "      <td>25.355</td>\n",
       "      <td>drugY</td>\n",
       "    </tr>\n",
       "    <tr>\n",
       "      <th>1</th>\n",
       "      <td>47</td>\n",
       "      <td>1</td>\n",
       "      <td>1</td>\n",
       "      <td>0</td>\n",
       "      <td>13.093</td>\n",
       "      <td>drugC</td>\n",
       "    </tr>\n",
       "    <tr>\n",
       "      <th>2</th>\n",
       "      <td>47</td>\n",
       "      <td>1</td>\n",
       "      <td>1</td>\n",
       "      <td>0</td>\n",
       "      <td>10.114</td>\n",
       "      <td>drugC</td>\n",
       "    </tr>\n",
       "    <tr>\n",
       "      <th>3</th>\n",
       "      <td>28</td>\n",
       "      <td>0</td>\n",
       "      <td>2</td>\n",
       "      <td>0</td>\n",
       "      <td>7.798</td>\n",
       "      <td>drugX</td>\n",
       "    </tr>\n",
       "    <tr>\n",
       "      <th>4</th>\n",
       "      <td>61</td>\n",
       "      <td>0</td>\n",
       "      <td>1</td>\n",
       "      <td>0</td>\n",
       "      <td>18.043</td>\n",
       "      <td>drugY</td>\n",
       "    </tr>\n",
       "  </tbody>\n",
       "</table>\n",
       "</div>"
      ],
      "text/plain": [
       "   Age  Sex  BP  Cholesterol  Na_to_K   Drug\n",
       "0   23    0   0            0   25.355  drugY\n",
       "1   47    1   1            0   13.093  drugC\n",
       "2   47    1   1            0   10.114  drugC\n",
       "3   28    0   2            0    7.798  drugX\n",
       "4   61    0   1            0   18.043  drugY"
      ]
     },
     "execution_count": 37,
     "metadata": {},
     "output_type": "execute_result"
    }
   ],
   "source": [
    "df.head()"
   ]
  },
  {
   "cell_type": "code",
   "execution_count": 38,
   "metadata": {},
   "outputs": [],
   "source": [
    "x=df.iloc[:,[0,1,2,3,4]].values"
   ]
  },
  {
   "cell_type": "code",
   "execution_count": 39,
   "metadata": {},
   "outputs": [],
   "source": [
    "y=df.iloc[:,[5]].values"
   ]
  },
  {
   "cell_type": "code",
   "execution_count": 40,
   "metadata": {},
   "outputs": [
    {
     "data": {
      "text/plain": [
       "array([[23.   ,  0.   ,  0.   ,  0.   , 25.355],\n",
       "       [47.   ,  1.   ,  1.   ,  0.   , 13.093],\n",
       "       [47.   ,  1.   ,  1.   ,  0.   , 10.114],\n",
       "       [28.   ,  0.   ,  2.   ,  0.   ,  7.798],\n",
       "       [61.   ,  0.   ,  1.   ,  0.   , 18.043],\n",
       "       [22.   ,  0.   ,  2.   ,  0.   ,  8.607],\n",
       "       [49.   ,  0.   ,  2.   ,  0.   , 16.275],\n",
       "       [41.   ,  1.   ,  1.   ,  0.   , 11.037],\n",
       "       [60.   ,  1.   ,  2.   ,  0.   , 15.171],\n",
       "       [43.   ,  1.   ,  1.   ,  1.   , 19.368],\n",
       "       [47.   ,  0.   ,  1.   ,  0.   , 11.767],\n",
       "       [34.   ,  0.   ,  0.   ,  1.   , 19.199],\n",
       "       [43.   ,  1.   ,  1.   ,  0.   , 15.376],\n",
       "       [74.   ,  0.   ,  1.   ,  0.   , 20.942],\n",
       "       [50.   ,  0.   ,  2.   ,  0.   , 12.703],\n",
       "       [16.   ,  0.   ,  0.   ,  1.   , 15.516],\n",
       "       [69.   ,  1.   ,  1.   ,  1.   , 11.455],\n",
       "       [43.   ,  1.   ,  0.   ,  0.   , 13.972],\n",
       "       [23.   ,  1.   ,  1.   ,  0.   ,  7.298],\n",
       "       [32.   ,  0.   ,  0.   ,  1.   , 25.974],\n",
       "       [57.   ,  1.   ,  1.   ,  1.   , 19.128],\n",
       "       [63.   ,  1.   ,  2.   ,  0.   , 25.917],\n",
       "       [47.   ,  1.   ,  1.   ,  1.   , 30.568],\n",
       "       [48.   ,  0.   ,  1.   ,  0.   , 15.036],\n",
       "       [33.   ,  0.   ,  1.   ,  0.   , 33.486],\n",
       "       [28.   ,  0.   ,  0.   ,  1.   , 18.809],\n",
       "       [31.   ,  1.   ,  0.   ,  0.   , 30.366],\n",
       "       [49.   ,  0.   ,  2.   ,  1.   ,  9.381],\n",
       "       [39.   ,  0.   ,  1.   ,  1.   , 22.697],\n",
       "       [45.   ,  1.   ,  1.   ,  0.   , 17.951],\n",
       "       [18.   ,  0.   ,  2.   ,  1.   ,  8.75 ],\n",
       "       [74.   ,  1.   ,  0.   ,  0.   ,  9.567],\n",
       "       [49.   ,  1.   ,  1.   ,  1.   , 11.014],\n",
       "       [65.   ,  0.   ,  0.   ,  1.   , 31.876],\n",
       "       [53.   ,  1.   ,  2.   ,  0.   , 14.133],\n",
       "       [46.   ,  1.   ,  2.   ,  1.   ,  7.285],\n",
       "       [32.   ,  1.   ,  0.   ,  1.   ,  9.445],\n",
       "       [39.   ,  1.   ,  1.   ,  1.   , 13.938],\n",
       "       [39.   ,  0.   ,  2.   ,  1.   ,  9.709],\n",
       "       [15.   ,  1.   ,  2.   ,  0.   ,  9.084],\n",
       "       [73.   ,  0.   ,  2.   ,  0.   , 19.221],\n",
       "       [58.   ,  0.   ,  0.   ,  1.   , 14.239],\n",
       "       [50.   ,  1.   ,  2.   ,  1.   , 15.79 ],\n",
       "       [23.   ,  1.   ,  2.   ,  0.   , 12.26 ],\n",
       "       [50.   ,  0.   ,  2.   ,  1.   , 12.295],\n",
       "       [66.   ,  0.   ,  2.   ,  1.   ,  8.107],\n",
       "       [37.   ,  0.   ,  0.   ,  0.   , 13.091],\n",
       "       [68.   ,  1.   ,  1.   ,  0.   , 10.291],\n",
       "       [23.   ,  1.   ,  2.   ,  0.   , 31.686],\n",
       "       [28.   ,  0.   ,  1.   ,  0.   , 19.796],\n",
       "       [58.   ,  0.   ,  0.   ,  0.   , 19.416],\n",
       "       [67.   ,  1.   ,  2.   ,  1.   , 10.898],\n",
       "       [62.   ,  1.   ,  1.   ,  1.   , 27.183],\n",
       "       [24.   ,  0.   ,  0.   ,  1.   , 18.457],\n",
       "       [68.   ,  0.   ,  0.   ,  1.   , 10.189],\n",
       "       [26.   ,  0.   ,  1.   ,  0.   , 14.16 ],\n",
       "       [65.   ,  1.   ,  0.   ,  1.   , 11.34 ],\n",
       "       [40.   ,  1.   ,  0.   ,  0.   , 27.826],\n",
       "       [60.   ,  1.   ,  2.   ,  1.   , 10.091],\n",
       "       [34.   ,  1.   ,  0.   ,  0.   , 18.703],\n",
       "       [38.   ,  0.   ,  1.   ,  1.   , 29.875],\n",
       "       [24.   ,  1.   ,  0.   ,  1.   ,  9.475],\n",
       "       [67.   ,  1.   ,  1.   ,  1.   , 20.693],\n",
       "       [45.   ,  1.   ,  1.   ,  1.   ,  8.37 ],\n",
       "       [60.   ,  0.   ,  0.   ,  0.   , 13.303],\n",
       "       [68.   ,  0.   ,  2.   ,  1.   , 27.05 ],\n",
       "       [29.   ,  1.   ,  0.   ,  0.   , 12.856],\n",
       "       [17.   ,  1.   ,  2.   ,  1.   , 10.832],\n",
       "       [54.   ,  1.   ,  2.   ,  0.   , 24.658],\n",
       "       [18.   ,  0.   ,  0.   ,  1.   , 24.276],\n",
       "       [70.   ,  1.   ,  0.   ,  0.   , 13.967],\n",
       "       [28.   ,  0.   ,  2.   ,  0.   , 19.675],\n",
       "       [24.   ,  0.   ,  2.   ,  0.   , 10.605],\n",
       "       [41.   ,  0.   ,  2.   ,  1.   , 22.905],\n",
       "       [31.   ,  1.   ,  0.   ,  1.   , 17.069],\n",
       "       [26.   ,  1.   ,  1.   ,  1.   , 20.909],\n",
       "       [36.   ,  0.   ,  0.   ,  0.   , 11.198],\n",
       "       [26.   ,  0.   ,  0.   ,  1.   , 19.161],\n",
       "       [19.   ,  0.   ,  0.   ,  0.   , 13.313],\n",
       "       [32.   ,  0.   ,  1.   ,  1.   , 10.84 ],\n",
       "       [60.   ,  1.   ,  0.   ,  0.   , 13.934],\n",
       "       [64.   ,  1.   ,  2.   ,  0.   ,  7.761],\n",
       "       [32.   ,  0.   ,  1.   ,  0.   ,  9.712],\n",
       "       [38.   ,  0.   ,  0.   ,  1.   , 11.326],\n",
       "       [47.   ,  0.   ,  1.   ,  0.   , 10.067],\n",
       "       [59.   ,  1.   ,  0.   ,  0.   , 13.935],\n",
       "       [51.   ,  0.   ,  2.   ,  0.   , 13.597],\n",
       "       [69.   ,  1.   ,  1.   ,  0.   , 15.478],\n",
       "       [37.   ,  0.   ,  0.   ,  1.   , 23.091],\n",
       "       [50.   ,  0.   ,  2.   ,  1.   , 17.211],\n",
       "       [62.   ,  1.   ,  2.   ,  0.   , 16.594],\n",
       "       [41.   ,  1.   ,  0.   ,  1.   , 15.156],\n",
       "       [29.   ,  0.   ,  0.   ,  0.   , 29.45 ],\n",
       "       [42.   ,  0.   ,  1.   ,  1.   , 29.271],\n",
       "       [56.   ,  1.   ,  1.   ,  0.   , 15.015],\n",
       "       [36.   ,  1.   ,  1.   ,  1.   , 11.424],\n",
       "       [58.   ,  0.   ,  1.   ,  0.   , 38.247],\n",
       "       [56.   ,  0.   ,  0.   ,  0.   , 25.395],\n",
       "       [20.   ,  1.   ,  0.   ,  1.   , 35.639],\n",
       "       [15.   ,  0.   ,  0.   ,  1.   , 16.725],\n",
       "       [31.   ,  1.   ,  0.   ,  1.   , 11.871],\n",
       "       [45.   ,  0.   ,  0.   ,  0.   , 12.854],\n",
       "       [28.   ,  0.   ,  1.   ,  0.   , 13.127],\n",
       "       [56.   ,  1.   ,  2.   ,  0.   ,  8.966],\n",
       "       [22.   ,  1.   ,  0.   ,  1.   , 28.294],\n",
       "       [37.   ,  1.   ,  1.   ,  1.   ,  8.968],\n",
       "       [22.   ,  1.   ,  2.   ,  0.   , 11.953],\n",
       "       [42.   ,  1.   ,  1.   ,  0.   , 20.013],\n",
       "       [72.   ,  1.   ,  0.   ,  1.   ,  9.677],\n",
       "       [23.   ,  1.   ,  2.   ,  0.   , 16.85 ],\n",
       "       [50.   ,  1.   ,  0.   ,  0.   ,  7.49 ],\n",
       "       [47.   ,  0.   ,  2.   ,  1.   ,  6.683],\n",
       "       [35.   ,  1.   ,  1.   ,  1.   ,  9.17 ],\n",
       "       [65.   ,  0.   ,  1.   ,  1.   , 13.769],\n",
       "       [20.   ,  0.   ,  2.   ,  1.   ,  9.281],\n",
       "       [51.   ,  1.   ,  0.   ,  0.   , 18.295],\n",
       "       [67.   ,  1.   ,  2.   ,  1.   ,  9.514],\n",
       "       [40.   ,  0.   ,  2.   ,  0.   , 10.103],\n",
       "       [32.   ,  0.   ,  0.   ,  1.   , 10.292],\n",
       "       [61.   ,  0.   ,  0.   ,  0.   , 25.475],\n",
       "       [28.   ,  1.   ,  2.   ,  0.   , 27.064],\n",
       "       [15.   ,  1.   ,  0.   ,  1.   , 17.206],\n",
       "       [34.   ,  1.   ,  2.   ,  0.   , 22.456],\n",
       "       [36.   ,  0.   ,  2.   ,  0.   , 16.753],\n",
       "       [53.   ,  0.   ,  0.   ,  1.   , 12.495],\n",
       "       [19.   ,  0.   ,  0.   ,  1.   , 25.969],\n",
       "       [66.   ,  1.   ,  0.   ,  0.   , 16.347],\n",
       "       [35.   ,  1.   ,  2.   ,  1.   ,  7.845],\n",
       "       [47.   ,  1.   ,  1.   ,  1.   , 33.542],\n",
       "       [32.   ,  0.   ,  2.   ,  0.   ,  7.477],\n",
       "       [70.   ,  0.   ,  2.   ,  0.   , 20.489],\n",
       "       [52.   ,  1.   ,  1.   ,  1.   , 32.922],\n",
       "       [49.   ,  1.   ,  1.   ,  1.   , 13.598],\n",
       "       [24.   ,  1.   ,  2.   ,  0.   , 25.786],\n",
       "       [42.   ,  0.   ,  0.   ,  0.   , 21.036],\n",
       "       [74.   ,  1.   ,  1.   ,  1.   , 11.939],\n",
       "       [55.   ,  0.   ,  0.   ,  0.   , 10.977],\n",
       "       [35.   ,  0.   ,  0.   ,  0.   , 12.894],\n",
       "       [51.   ,  1.   ,  0.   ,  1.   , 11.343],\n",
       "       [69.   ,  0.   ,  2.   ,  0.   , 10.065],\n",
       "       [49.   ,  1.   ,  0.   ,  1.   ,  6.269],\n",
       "       [64.   ,  0.   ,  1.   ,  1.   , 25.741],\n",
       "       [60.   ,  1.   ,  0.   ,  1.   ,  8.621],\n",
       "       [74.   ,  1.   ,  0.   ,  1.   , 15.436],\n",
       "       [39.   ,  1.   ,  0.   ,  0.   ,  9.664],\n",
       "       [61.   ,  1.   ,  2.   ,  0.   ,  9.443],\n",
       "       [37.   ,  0.   ,  1.   ,  1.   , 12.006],\n",
       "       [26.   ,  0.   ,  0.   ,  1.   , 12.307],\n",
       "       [61.   ,  0.   ,  1.   ,  1.   ,  7.34 ],\n",
       "       [22.   ,  1.   ,  1.   ,  0.   ,  8.151],\n",
       "       [49.   ,  1.   ,  0.   ,  1.   ,  8.7  ],\n",
       "       [68.   ,  1.   ,  0.   ,  0.   , 11.009],\n",
       "       [55.   ,  1.   ,  2.   ,  1.   ,  7.261],\n",
       "       [72.   ,  0.   ,  1.   ,  1.   , 14.642],\n",
       "       [37.   ,  1.   ,  1.   ,  1.   , 16.724],\n",
       "       [49.   ,  1.   ,  1.   ,  0.   , 10.537],\n",
       "       [31.   ,  1.   ,  0.   ,  1.   , 11.227],\n",
       "       [53.   ,  1.   ,  1.   ,  0.   , 22.963],\n",
       "       [59.   ,  0.   ,  1.   ,  0.   , 10.444],\n",
       "       [34.   ,  0.   ,  1.   ,  1.   , 12.923],\n",
       "       [30.   ,  0.   ,  2.   ,  0.   , 10.443],\n",
       "       [57.   ,  0.   ,  0.   ,  1.   ,  9.945],\n",
       "       [43.   ,  1.   ,  2.   ,  1.   , 12.859],\n",
       "       [21.   ,  0.   ,  0.   ,  1.   , 28.632],\n",
       "       [16.   ,  1.   ,  0.   ,  1.   , 19.007],\n",
       "       [38.   ,  1.   ,  1.   ,  0.   , 18.295],\n",
       "       [58.   ,  0.   ,  1.   ,  0.   , 26.645],\n",
       "       [57.   ,  0.   ,  2.   ,  0.   , 14.216],\n",
       "       [51.   ,  0.   ,  1.   ,  1.   , 23.003],\n",
       "       [20.   ,  0.   ,  0.   ,  0.   , 11.262],\n",
       "       [28.   ,  0.   ,  2.   ,  0.   , 12.879],\n",
       "       [45.   ,  1.   ,  1.   ,  1.   , 10.017],\n",
       "       [39.   ,  0.   ,  2.   ,  1.   , 17.225],\n",
       "       [41.   ,  0.   ,  1.   ,  1.   , 18.739],\n",
       "       [42.   ,  1.   ,  0.   ,  1.   , 12.766],\n",
       "       [73.   ,  0.   ,  0.   ,  0.   , 18.348],\n",
       "       [48.   ,  1.   ,  0.   ,  1.   , 10.446],\n",
       "       [25.   ,  1.   ,  2.   ,  0.   , 19.011],\n",
       "       [39.   ,  1.   ,  2.   ,  0.   , 15.969],\n",
       "       [67.   ,  0.   ,  2.   ,  0.   , 15.891],\n",
       "       [22.   ,  0.   ,  0.   ,  1.   , 22.818],\n",
       "       [59.   ,  0.   ,  2.   ,  0.   , 13.884],\n",
       "       [20.   ,  0.   ,  1.   ,  1.   , 11.686],\n",
       "       [36.   ,  0.   ,  0.   ,  1.   , 15.49 ],\n",
       "       [18.   ,  0.   ,  0.   ,  0.   , 37.188],\n",
       "       [57.   ,  0.   ,  2.   ,  1.   , 25.893],\n",
       "       [70.   ,  1.   ,  0.   ,  0.   ,  9.849],\n",
       "       [47.   ,  1.   ,  0.   ,  0.   , 10.403],\n",
       "       [65.   ,  1.   ,  0.   ,  1.   , 34.997],\n",
       "       [64.   ,  1.   ,  0.   ,  1.   , 20.932],\n",
       "       [58.   ,  1.   ,  0.   ,  0.   , 18.991],\n",
       "       [23.   ,  1.   ,  0.   ,  0.   ,  8.011],\n",
       "       [72.   ,  1.   ,  1.   ,  0.   , 16.31 ],\n",
       "       [72.   ,  1.   ,  1.   ,  0.   ,  6.769],\n",
       "       [46.   ,  0.   ,  0.   ,  0.   , 34.686],\n",
       "       [56.   ,  0.   ,  1.   ,  0.   , 11.567],\n",
       "       [16.   ,  1.   ,  1.   ,  0.   , 12.006],\n",
       "       [52.   ,  1.   ,  2.   ,  0.   ,  9.894],\n",
       "       [23.   ,  1.   ,  2.   ,  1.   , 14.02 ],\n",
       "       [40.   ,  0.   ,  1.   ,  1.   , 11.349]])"
      ]
     },
     "execution_count": 40,
     "metadata": {},
     "output_type": "execute_result"
    }
   ],
   "source": [
    "x"
   ]
  },
  {
   "cell_type": "code",
   "execution_count": 41,
   "metadata": {},
   "outputs": [
    {
     "data": {
      "text/plain": [
       "array([['drugY'],\n",
       "       ['drugC'],\n",
       "       ['drugC'],\n",
       "       ['drugX'],\n",
       "       ['drugY'],\n",
       "       ['drugX'],\n",
       "       ['drugY'],\n",
       "       ['drugC'],\n",
       "       ['drugY'],\n",
       "       ['drugY'],\n",
       "       ['drugC'],\n",
       "       ['drugY'],\n",
       "       ['drugY'],\n",
       "       ['drugY'],\n",
       "       ['drugX'],\n",
       "       ['drugY'],\n",
       "       ['drugX'],\n",
       "       ['drugA'],\n",
       "       ['drugC'],\n",
       "       ['drugY'],\n",
       "       ['drugY'],\n",
       "       ['drugY'],\n",
       "       ['drugY'],\n",
       "       ['drugY'],\n",
       "       ['drugY'],\n",
       "       ['drugY'],\n",
       "       ['drugY'],\n",
       "       ['drugX'],\n",
       "       ['drugY'],\n",
       "       ['drugY'],\n",
       "       ['drugX'],\n",
       "       ['drugB'],\n",
       "       ['drugX'],\n",
       "       ['drugY'],\n",
       "       ['drugX'],\n",
       "       ['drugX'],\n",
       "       ['drugA'],\n",
       "       ['drugX'],\n",
       "       ['drugX'],\n",
       "       ['drugX'],\n",
       "       ['drugY'],\n",
       "       ['drugB'],\n",
       "       ['drugY'],\n",
       "       ['drugX'],\n",
       "       ['drugX'],\n",
       "       ['drugX'],\n",
       "       ['drugA'],\n",
       "       ['drugC'],\n",
       "       ['drugY'],\n",
       "       ['drugY'],\n",
       "       ['drugY'],\n",
       "       ['drugX'],\n",
       "       ['drugY'],\n",
       "       ['drugY'],\n",
       "       ['drugB'],\n",
       "       ['drugC'],\n",
       "       ['drugB'],\n",
       "       ['drugY'],\n",
       "       ['drugX'],\n",
       "       ['drugY'],\n",
       "       ['drugY'],\n",
       "       ['drugA'],\n",
       "       ['drugY'],\n",
       "       ['drugX'],\n",
       "       ['drugB'],\n",
       "       ['drugY'],\n",
       "       ['drugA'],\n",
       "       ['drugX'],\n",
       "       ['drugY'],\n",
       "       ['drugY'],\n",
       "       ['drugB'],\n",
       "       ['drugY'],\n",
       "       ['drugX'],\n",
       "       ['drugY'],\n",
       "       ['drugY'],\n",
       "       ['drugY'],\n",
       "       ['drugA'],\n",
       "       ['drugY'],\n",
       "       ['drugA'],\n",
       "       ['drugX'],\n",
       "       ['drugB'],\n",
       "       ['drugX'],\n",
       "       ['drugC'],\n",
       "       ['drugA'],\n",
       "       ['drugC'],\n",
       "       ['drugB'],\n",
       "       ['drugX'],\n",
       "       ['drugY'],\n",
       "       ['drugY'],\n",
       "       ['drugY'],\n",
       "       ['drugY'],\n",
       "       ['drugY'],\n",
       "       ['drugY'],\n",
       "       ['drugY'],\n",
       "       ['drugY'],\n",
       "       ['drugX'],\n",
       "       ['drugY'],\n",
       "       ['drugY'],\n",
       "       ['drugY'],\n",
       "       ['drugY'],\n",
       "       ['drugA'],\n",
       "       ['drugA'],\n",
       "       ['drugC'],\n",
       "       ['drugX'],\n",
       "       ['drugY'],\n",
       "       ['drugX'],\n",
       "       ['drugX'],\n",
       "       ['drugY'],\n",
       "       ['drugB'],\n",
       "       ['drugY'],\n",
       "       ['drugA'],\n",
       "       ['drugX'],\n",
       "       ['drugX'],\n",
       "       ['drugX'],\n",
       "       ['drugX'],\n",
       "       ['drugY'],\n",
       "       ['drugX'],\n",
       "       ['drugX'],\n",
       "       ['drugA'],\n",
       "       ['drugY'],\n",
       "       ['drugY'],\n",
       "       ['drugY'],\n",
       "       ['drugY'],\n",
       "       ['drugY'],\n",
       "       ['drugB'],\n",
       "       ['drugY'],\n",
       "       ['drugY'],\n",
       "       ['drugX'],\n",
       "       ['drugY'],\n",
       "       ['drugX'],\n",
       "       ['drugY'],\n",
       "       ['drugY'],\n",
       "       ['drugX'],\n",
       "       ['drugY'],\n",
       "       ['drugY'],\n",
       "       ['drugX'],\n",
       "       ['drugB'],\n",
       "       ['drugA'],\n",
       "       ['drugB'],\n",
       "       ['drugX'],\n",
       "       ['drugA'],\n",
       "       ['drugY'],\n",
       "       ['drugB'],\n",
       "       ['drugY'],\n",
       "       ['drugA'],\n",
       "       ['drugX'],\n",
       "       ['drugX'],\n",
       "       ['drugA'],\n",
       "       ['drugX'],\n",
       "       ['drugC'],\n",
       "       ['drugA'],\n",
       "       ['drugB'],\n",
       "       ['drugX'],\n",
       "       ['drugX'],\n",
       "       ['drugY'],\n",
       "       ['drugC'],\n",
       "       ['drugA'],\n",
       "       ['drugY'],\n",
       "       ['drugC'],\n",
       "       ['drugX'],\n",
       "       ['drugX'],\n",
       "       ['drugB'],\n",
       "       ['drugX'],\n",
       "       ['drugY'],\n",
       "       ['drugY'],\n",
       "       ['drugY'],\n",
       "       ['drugY'],\n",
       "       ['drugX'],\n",
       "       ['drugY'],\n",
       "       ['drugA'],\n",
       "       ['drugX'],\n",
       "       ['drugX'],\n",
       "       ['drugY'],\n",
       "       ['drugY'],\n",
       "       ['drugA'],\n",
       "       ['drugY'],\n",
       "       ['drugA'],\n",
       "       ['drugY'],\n",
       "       ['drugY'],\n",
       "       ['drugY'],\n",
       "       ['drugY'],\n",
       "       ['drugX'],\n",
       "       ['drugX'],\n",
       "       ['drugY'],\n",
       "       ['drugY'],\n",
       "       ['drugY'],\n",
       "       ['drugB'],\n",
       "       ['drugA'],\n",
       "       ['drugY'],\n",
       "       ['drugY'],\n",
       "       ['drugY'],\n",
       "       ['drugA'],\n",
       "       ['drugY'],\n",
       "       ['drugC'],\n",
       "       ['drugY'],\n",
       "       ['drugC'],\n",
       "       ['drugC'],\n",
       "       ['drugX'],\n",
       "       ['drugX'],\n",
       "       ['drugX']], dtype=object)"
      ]
     },
     "execution_count": 41,
     "metadata": {},
     "output_type": "execute_result"
    }
   ],
   "source": [
    "y"
   ]
  },
  {
   "cell_type": "code",
   "execution_count": 42,
   "metadata": {},
   "outputs": [],
   "source": [
    "from sklearn.model_selection import train_test_split"
   ]
  },
  {
   "cell_type": "code",
   "execution_count": 43,
   "metadata": {},
   "outputs": [],
   "source": [
    "x_train,x_test,y_train,y_test=train_test_split(x,y,random_state=0)"
   ]
  },
  {
   "cell_type": "code",
   "execution_count": 44,
   "metadata": {},
   "outputs": [
    {
     "data": {
      "text/plain": [
       "(150, 5)"
      ]
     },
     "execution_count": 44,
     "metadata": {},
     "output_type": "execute_result"
    }
   ],
   "source": [
    "x_train.shape"
   ]
  },
  {
   "cell_type": "code",
   "execution_count": 45,
   "metadata": {},
   "outputs": [],
   "source": [
    "from sklearn.preprocessing import StandardScaler\n",
    "std=StandardScaler()\n",
    "x_train=std.fit_transform(x_train)\n",
    "x_test=std.fit_transform(x_test)"
   ]
  },
  {
   "cell_type": "code",
   "execution_count": 46,
   "metadata": {},
   "outputs": [],
   "source": [
    "from sklearn.ensemble import RandomForestClassifier"
   ]
  },
  {
   "cell_type": "code",
   "execution_count": 47,
   "metadata": {},
   "outputs": [],
   "source": [
    "model=RandomForestClassifier()"
   ]
  },
  {
   "cell_type": "code",
   "execution_count": 48,
   "metadata": {},
   "outputs": [
    {
     "name": "stderr",
     "output_type": "stream",
     "text": [
      "c:\\users\\srishaila\\appdata\\local\\programs\\python\\python37\\lib\\site-packages\\ipykernel_launcher.py:1: DataConversionWarning: A column-vector y was passed when a 1d array was expected. Please change the shape of y to (n_samples,), for example using ravel().\n",
      "  \"\"\"Entry point for launching an IPython kernel.\n"
     ]
    },
    {
     "data": {
      "text/plain": [
       "RandomForestClassifier(bootstrap=True, ccp_alpha=0.0, class_weight=None,\n",
       "                       criterion='gini', max_depth=None, max_features='auto',\n",
       "                       max_leaf_nodes=None, max_samples=None,\n",
       "                       min_impurity_decrease=0.0, min_impurity_split=None,\n",
       "                       min_samples_leaf=1, min_samples_split=2,\n",
       "                       min_weight_fraction_leaf=0.0, n_estimators=100,\n",
       "                       n_jobs=None, oob_score=False, random_state=None,\n",
       "                       verbose=0, warm_start=False)"
      ]
     },
     "execution_count": 48,
     "metadata": {},
     "output_type": "execute_result"
    }
   ],
   "source": [
    "model.fit(x_train,y_train)"
   ]
  },
  {
   "cell_type": "code",
   "execution_count": 49,
   "metadata": {},
   "outputs": [],
   "source": [
    "y_pred=model.predict(x_test)"
   ]
  },
  {
   "cell_type": "code",
   "execution_count": 50,
   "metadata": {},
   "outputs": [
    {
     "data": {
      "text/plain": [
       "array(['drugC', 'drugX', 'drugY', 'drugY', 'drugY', 'drugX', 'drugX',\n",
       "       'drugX', 'drugY', 'drugX', 'drugA', 'drugY', 'drugY', 'drugY',\n",
       "       'drugB', 'drugC', 'drugY', 'drugY', 'drugX', 'drugY', 'drugY',\n",
       "       'drugX', 'drugX', 'drugX', 'drugY', 'drugY', 'drugY', 'drugY',\n",
       "       'drugY', 'drugX', 'drugX', 'drugC', 'drugB', 'drugX', 'drugY',\n",
       "       'drugY', 'drugX', 'drugY', 'drugA', 'drugX', 'drugY', 'drugA',\n",
       "       'drugY', 'drugX', 'drugY', 'drugX', 'drugY', 'drugY', 'drugA',\n",
       "       'drugY'], dtype=object)"
      ]
     },
     "execution_count": 50,
     "metadata": {},
     "output_type": "execute_result"
    }
   ],
   "source": [
    "y_pred"
   ]
  },
  {
   "cell_type": "code",
   "execution_count": 51,
   "metadata": {},
   "outputs": [
    {
     "data": {
      "text/plain": [
       "array([['drugC'],\n",
       "       ['drugX'],\n",
       "       ['drugY'],\n",
       "       ['drugY'],\n",
       "       ['drugY'],\n",
       "       ['drugX'],\n",
       "       ['drugX'],\n",
       "       ['drugX'],\n",
       "       ['drugY'],\n",
       "       ['drugX'],\n",
       "       ['drugA'],\n",
       "       ['drugY'],\n",
       "       ['drugY'],\n",
       "       ['drugY'],\n",
       "       ['drugB'],\n",
       "       ['drugC'],\n",
       "       ['drugY'],\n",
       "       ['drugY'],\n",
       "       ['drugX'],\n",
       "       ['drugY'],\n",
       "       ['drugY'],\n",
       "       ['drugX'],\n",
       "       ['drugX'],\n",
       "       ['drugX'],\n",
       "       ['drugY'],\n",
       "       ['drugY'],\n",
       "       ['drugY'],\n",
       "       ['drugY'],\n",
       "       ['drugY'],\n",
       "       ['drugX'],\n",
       "       ['drugX'],\n",
       "       ['drugC'],\n",
       "       ['drugA'],\n",
       "       ['drugX'],\n",
       "       ['drugY'],\n",
       "       ['drugY'],\n",
       "       ['drugX'],\n",
       "       ['drugY'],\n",
       "       ['drugA'],\n",
       "       ['drugX'],\n",
       "       ['drugY'],\n",
       "       ['drugA'],\n",
       "       ['drugY'],\n",
       "       ['drugX'],\n",
       "       ['drugY'],\n",
       "       ['drugX'],\n",
       "       ['drugY'],\n",
       "       ['drugY'],\n",
       "       ['drugA'],\n",
       "       ['drugY']], dtype=object)"
      ]
     },
     "execution_count": 51,
     "metadata": {},
     "output_type": "execute_result"
    }
   ],
   "source": [
    "y_test"
   ]
  },
  {
   "cell_type": "code",
   "execution_count": 52,
   "metadata": {},
   "outputs": [
    {
     "data": {
      "text/plain": [
       "98.0"
      ]
     },
     "execution_count": 52,
     "metadata": {},
     "output_type": "execute_result"
    }
   ],
   "source": [
    "model.score(x_test,y_test)*100"
   ]
  },
  {
   "cell_type": "code",
   "execution_count": 53,
   "metadata": {},
   "outputs": [],
   "source": [
    "import matplotlib.pyplot as plt"
   ]
  },
  {
   "cell_type": "code",
   "execution_count": 54,
   "metadata": {},
   "outputs": [
    {
     "data": {
      "text/plain": [
       "Text(0, 0.5, 'drug')"
      ]
     },
     "execution_count": 54,
     "metadata": {},
     "output_type": "execute_result"
    },
    {
     "data": {
      "image/png": "[encoded data removed]",
      "text/plain": [
       "<Figure size 432x288 with 1 Axes>"
      ]
     },
     "metadata": {
      "needs_background": "light"
     },
     "output_type": "display_data"
    }
   ],
   "source": [
    "plt.bar(df.Age,df.Drug,width=0.5,color=['r','g','b','y'])\n",
    "plt.xlabel('age')\n",
    "plt.ylabel('drug')"
   ]
  },
  {
   "cell_type": "code",
   "execution_count": 55,
   "metadata": {},
   "outputs": [],
   "source": [
    "from sklearn.linear_model import LogisticRegression\n",
    "model1=LogisticRegression()"
   ]
  },
  {
   "cell_type": "code",
   "execution_count": 56,
   "metadata": {},
   "outputs": [
    {
     "name": "stderr",
     "output_type": "stream",
     "text": [
      "c:\\users\\srishaila\\appdata\\local\\programs\\python\\python37\\lib\\site-packages\\sklearn\\utils\\validation.py:760: DataConversionWarning: A column-vector y was passed when a 1d array was expected. Please change the shape of y to (n_samples, ), for example using ravel().\n",
      "  y = column_or_1d(y, warn=True)\n"
     ]
    },
    {
     "data": {
      "text/plain": [
       "LogisticRegression(C=1.0, class_weight=None, dual=False, fit_intercept=True,\n",
       "                   intercept_scaling=1, l1_ratio=None, max_iter=100,\n",
       "                   multi_class='auto', n_jobs=None, penalty='l2',\n",
       "                   random_state=None, solver='lbfgs', tol=0.0001, verbose=0,\n",
       "                   warm_start=False)"
      ]
     },
     "execution_count": 56,
     "metadata": {},
     "output_type": "execute_result"
    }
   ],
   "source": [
    "model1.fit(x_train,y_train)"
   ]
  },
  {
   "cell_type": "code",
   "execution_count": 57,
   "metadata": {},
   "outputs": [],
   "source": [
    "y_pred=model1.predict(x_test)"
   ]
  },
  {
   "cell_type": "code",
   "execution_count": 58,
   "metadata": {},
   "outputs": [
    {
     "data": {
      "text/plain": [
       "array(['drugC', 'drugX', 'drugY', 'drugY', 'drugY', 'drugX', 'drugX',\n",
       "       'drugX', 'drugY', 'drugX', 'drugA', 'drugY', 'drugY', 'drugY',\n",
       "       'drugB', 'drugC', 'drugY', 'drugY', 'drugY', 'drugY', 'drugY',\n",
       "       'drugX', 'drugX', 'drugX', 'drugY', 'drugY', 'drugY', 'drugY',\n",
       "       'drugY', 'drugX', 'drugX', 'drugC', 'drugA', 'drugX', 'drugY',\n",
       "       'drugY', 'drugX', 'drugY', 'drugA', 'drugX', 'drugY', 'drugA',\n",
       "       'drugY', 'drugX', 'drugY', 'drugX', 'drugY', 'drugY', 'drugA',\n",
       "       'drugB'], dtype=object)"
      ]
     },
     "execution_count": 58,
     "metadata": {},
     "output_type": "execute_result"
    }
   ],
   "source": [
    "y_pred"
   ]
  },
  {
   "cell_type": "code",
   "execution_count": 59,
   "metadata": {},
   "outputs": [
    {
     "data": {
      "text/plain": [
       "96.0"
      ]
     },
     "execution_count": 59,
     "metadata": {},
     "output_type": "execute_result"
    }
   ],
   "source": [
    "model1.score(x_test,y_test)*100"
   ]
  },
  {
   "cell_type": "code",
   "execution_count": 60,
   "metadata": {},
   "outputs": [],
   "source": [
    "y_pred=model.predict([[23,0,0,0,45.86]])"
   ]
  },
  {
   "cell_type": "code",
   "execution_count": 61,
   "metadata": {},
   "outputs": [
    {
     "data": {
      "text/plain": [
       "array(['drugY'], dtype=object)"
      ]
     },
     "execution_count": 61,
     "metadata": {},
     "output_type": "execute_result"
    }
   ],
   "source": [
    "y_pred"
   ]
  },
  {
   "cell_type": "markdown",
   "metadata": {},
   "source": [
    "knn dtc svm"
   ]
  },
  {
   "cell_type": "code",
   "execution_count": 62,
   "metadata": {},
   "outputs": [],
   "source": [
    "import pandas as pd\n",
    "import numpy as np\n",
    "from sklearn.tree import DecisionTreeClassifier"
   ]
  },
  {
   "cell_type": "code",
   "execution_count": 63,
   "metadata": {},
   "outputs": [],
   "source": [
    "df=pd.read_csv('drug200.csv')"
   ]
  },
  {
   "cell_type": "code",
   "execution_count": 64,
   "metadata": {},
   "outputs": [
    {
     "data": {
      "text/html": [
       "<div>\n",
       "<style scoped>\n",
       "    .dataframe tbody tr th:only-of-type {\n",
       "        vertical-align: middle;\n",
       "    }\n",
       "\n",
       "    .dataframe tbody tr th {\n",
       "        vertical-align: top;\n",
       "    }\n",
       "\n",
       "    .dataframe thead th {\n",
       "        text-align: right;\n",
       "    }\n",
       "</style>\n",
       "<table border=\"1\" class=\"dataframe\">\n",
       "  <thead>\n",
       "    <tr style=\"text-align: right;\">\n",
       "      <th></th>\n",
       "      <th>Age</th>\n",
       "      <th>Sex</th>\n",
       "      <th>BP</th>\n",
       "      <th>Cholesterol</th>\n",
       "      <th>Na_to_K</th>\n",
       "      <th>Drug</th>\n",
       "    </tr>\n",
       "  </thead>\n",
       "  <tbody>\n",
       "    <tr>\n",
       "      <th>0</th>\n",
       "      <td>23</td>\n",
       "      <td>F</td>\n",
       "      <td>HIGH</td>\n",
       "      <td>HIGH</td>\n",
       "      <td>25.355</td>\n",
       "      <td>drugY</td>\n",
       "    </tr>\n",
       "    <tr>\n",
       "      <th>1</th>\n",
       "      <td>47</td>\n",
       "      <td>M</td>\n",
       "      <td>LOW</td>\n",
       "      <td>HIGH</td>\n",
       "      <td>13.093</td>\n",
       "      <td>drugC</td>\n",
       "    </tr>\n",
       "    <tr>\n",
       "      <th>2</th>\n",
       "      <td>47</td>\n",
       "      <td>M</td>\n",
       "      <td>LOW</td>\n",
       "      <td>HIGH</td>\n",
       "      <td>10.114</td>\n",
       "      <td>drugC</td>\n",
       "    </tr>\n",
       "    <tr>\n",
       "      <th>3</th>\n",
       "      <td>28</td>\n",
       "      <td>F</td>\n",
       "      <td>NORMAL</td>\n",
       "      <td>HIGH</td>\n",
       "      <td>7.798</td>\n",
       "      <td>drugX</td>\n",
       "    </tr>\n",
       "    <tr>\n",
       "      <th>4</th>\n",
       "      <td>61</td>\n",
       "      <td>F</td>\n",
       "      <td>LOW</td>\n",
       "      <td>HIGH</td>\n",
       "      <td>18.043</td>\n",
       "      <td>drugY</td>\n",
       "    </tr>\n",
       "    <tr>\n",
       "      <th>...</th>\n",
       "      <td>...</td>\n",
       "      <td>...</td>\n",
       "      <td>...</td>\n",
       "      <td>...</td>\n",
       "      <td>...</td>\n",
       "      <td>...</td>\n",
       "    </tr>\n",
       "    <tr>\n",
       "      <th>195</th>\n",
       "      <td>56</td>\n",
       "      <td>F</td>\n",
       "      <td>LOW</td>\n",
       "      <td>HIGH</td>\n",
       "      <td>11.567</td>\n",
       "      <td>drugC</td>\n",
       "    </tr>\n",
       "    <tr>\n",
       "      <th>196</th>\n",
       "      <td>16</td>\n",
       "      <td>M</td>\n",
       "      <td>LOW</td>\n",
       "      <td>HIGH</td>\n",
       "      <td>12.006</td>\n",
       "      <td>drugC</td>\n",
       "    </tr>\n",
       "    <tr>\n",
       "      <th>197</th>\n",
       "      <td>52</td>\n",
       "      <td>M</td>\n",
       "      <td>NORMAL</td>\n",
       "      <td>HIGH</td>\n",
       "      <td>9.894</td>\n",
       "      <td>drugX</td>\n",
       "    </tr>\n",
       "    <tr>\n",
       "      <th>198</th>\n",
       "      <td>23</td>\n",
       "      <td>M</td>\n",
       "      <td>NORMAL</td>\n",
       "      <td>NORMAL</td>\n",
       "      <td>14.020</td>\n",
       "      <td>drugX</td>\n",
       "    </tr>\n",
       "    <tr>\n",
       "      <th>199</th>\n",
       "      <td>40</td>\n",
       "      <td>F</td>\n",
       "      <td>LOW</td>\n",
       "      <td>NORMAL</td>\n",
       "      <td>11.349</td>\n",
       "      <td>drugX</td>\n",
       "    </tr>\n",
       "  </tbody>\n",
       "</table>\n",
       "<p>200 rows × 6 columns</p>\n",
       "</div>"
      ],
      "text/plain": [
       "     Age Sex      BP Cholesterol  Na_to_K   Drug\n",
       "0     23   F    HIGH        HIGH   25.355  drugY\n",
       "1     47   M     LOW        HIGH   13.093  drugC\n",
       "2     47   M     LOW        HIGH   10.114  drugC\n",
       "3     28   F  NORMAL        HIGH    7.798  drugX\n",
       "4     61   F     LOW        HIGH   18.043  drugY\n",
       "..   ...  ..     ...         ...      ...    ...\n",
       "195   56   F     LOW        HIGH   11.567  drugC\n",
       "196   16   M     LOW        HIGH   12.006  drugC\n",
       "197   52   M  NORMAL        HIGH    9.894  drugX\n",
       "198   23   M  NORMAL      NORMAL   14.020  drugX\n",
       "199   40   F     LOW      NORMAL   11.349  drugX\n",
       "\n",
       "[200 rows x 6 columns]"
      ]
     },
     "execution_count": 64,
     "metadata": {},
     "output_type": "execute_result"
    }
   ],
   "source": [
    "df"
   ]
  },
  {
   "cell_type": "code",
   "execution_count": 65,
   "metadata": {},
   "outputs": [
    {
     "data": {
      "text/html": [
       "<div>\n",
       "<style scoped>\n",
       "    .dataframe tbody tr th:only-of-type {\n",
       "        vertical-align: middle;\n",
       "    }\n",
       "\n",
       "    .dataframe tbody tr th {\n",
       "        vertical-align: top;\n",
       "    }\n",
       "\n",
       "    .dataframe thead th {\n",
       "        text-align: right;\n",
       "    }\n",
       "</style>\n",
       "<table border=\"1\" class=\"dataframe\">\n",
       "  <thead>\n",
       "    <tr style=\"text-align: right;\">\n",
       "      <th></th>\n",
       "      <th>Age</th>\n",
       "      <th>Sex</th>\n",
       "      <th>BP</th>\n",
       "      <th>Cholesterol</th>\n",
       "      <th>Na_to_K</th>\n",
       "      <th>Drug</th>\n",
       "    </tr>\n",
       "  </thead>\n",
       "  <tbody>\n",
       "    <tr>\n",
       "      <th>0</th>\n",
       "      <td>23</td>\n",
       "      <td>F</td>\n",
       "      <td>HIGH</td>\n",
       "      <td>HIGH</td>\n",
       "      <td>25.355</td>\n",
       "      <td>drugY</td>\n",
       "    </tr>\n",
       "    <tr>\n",
       "      <th>1</th>\n",
       "      <td>47</td>\n",
       "      <td>M</td>\n",
       "      <td>LOW</td>\n",
       "      <td>HIGH</td>\n",
       "      <td>13.093</td>\n",
       "      <td>drugC</td>\n",
       "    </tr>\n",
       "    <tr>\n",
       "      <th>2</th>\n",
       "      <td>47</td>\n",
       "      <td>M</td>\n",
       "      <td>LOW</td>\n",
       "      <td>HIGH</td>\n",
       "      <td>10.114</td>\n",
       "      <td>drugC</td>\n",
       "    </tr>\n",
       "    <tr>\n",
       "      <th>3</th>\n",
       "      <td>28</td>\n",
       "      <td>F</td>\n",
       "      <td>NORMAL</td>\n",
       "      <td>HIGH</td>\n",
       "      <td>7.798</td>\n",
       "      <td>drugX</td>\n",
       "    </tr>\n",
       "    <tr>\n",
       "      <th>4</th>\n",
       "      <td>61</td>\n",
       "      <td>F</td>\n",
       "      <td>LOW</td>\n",
       "      <td>HIGH</td>\n",
       "      <td>18.043</td>\n",
       "      <td>drugY</td>\n",
       "    </tr>\n",
       "  </tbody>\n",
       "</table>\n",
       "</div>"
      ],
      "text/plain": [
       "   Age Sex      BP Cholesterol  Na_to_K   Drug\n",
       "0   23   F    HIGH        HIGH   25.355  drugY\n",
       "1   47   M     LOW        HIGH   13.093  drugC\n",
       "2   47   M     LOW        HIGH   10.114  drugC\n",
       "3   28   F  NORMAL        HIGH    7.798  drugX\n",
       "4   61   F     LOW        HIGH   18.043  drugY"
      ]
     },
     "execution_count": 65,
     "metadata": {},
     "output_type": "execute_result"
    }
   ],
   "source": [
    "df.head()"
   ]
  },
  {
   "cell_type": "code",
   "execution_count": 66,
   "metadata": {},
   "outputs": [
    {
     "data": {
      "text/plain": [
       "array([[23.   ,  0.   ,  0.   ,  0.   , 25.355],\n",
       "       [47.   ,  1.   ,  1.   ,  0.   , 13.093],\n",
       "       [47.   ,  1.   ,  1.   ,  0.   , 10.114],\n",
       "       [28.   ,  0.   ,  2.   ,  0.   ,  7.798],\n",
       "       [61.   ,  0.   ,  1.   ,  0.   , 18.043],\n",
       "       [22.   ,  0.   ,  2.   ,  0.   ,  8.607],\n",
       "       [49.   ,  0.   ,  2.   ,  0.   , 16.275],\n",
       "       [41.   ,  1.   ,  1.   ,  0.   , 11.037],\n",
       "       [60.   ,  1.   ,  2.   ,  0.   , 15.171],\n",
       "       [43.   ,  1.   ,  1.   ,  1.   , 19.368],\n",
       "       [47.   ,  0.   ,  1.   ,  0.   , 11.767],\n",
       "       [34.   ,  0.   ,  0.   ,  1.   , 19.199],\n",
       "       [43.   ,  1.   ,  1.   ,  0.   , 15.376],\n",
       "       [74.   ,  0.   ,  1.   ,  0.   , 20.942],\n",
       "       [50.   ,  0.   ,  2.   ,  0.   , 12.703],\n",
       "       [16.   ,  0.   ,  0.   ,  1.   , 15.516],\n",
       "       [69.   ,  1.   ,  1.   ,  1.   , 11.455],\n",
       "       [43.   ,  1.   ,  0.   ,  0.   , 13.972],\n",
       "       [23.   ,  1.   ,  1.   ,  0.   ,  7.298],\n",
       "       [32.   ,  0.   ,  0.   ,  1.   , 25.974],\n",
       "       [57.   ,  1.   ,  1.   ,  1.   , 19.128],\n",
       "       [63.   ,  1.   ,  2.   ,  0.   , 25.917],\n",
       "       [47.   ,  1.   ,  1.   ,  1.   , 30.568],\n",
       "       [48.   ,  0.   ,  1.   ,  0.   , 15.036],\n",
       "       [33.   ,  0.   ,  1.   ,  0.   , 33.486],\n",
       "       [28.   ,  0.   ,  0.   ,  1.   , 18.809],\n",
       "       [31.   ,  1.   ,  0.   ,  0.   , 30.366],\n",
       "       [49.   ,  0.   ,  2.   ,  1.   ,  9.381],\n",
       "       [39.   ,  0.   ,  1.   ,  1.   , 22.697],\n",
       "       [45.   ,  1.   ,  1.   ,  0.   , 17.951],\n",
       "       [18.   ,  0.   ,  2.   ,  1.   ,  8.75 ],\n",
       "       [74.   ,  1.   ,  0.   ,  0.   ,  9.567],\n",
       "       [49.   ,  1.   ,  1.   ,  1.   , 11.014],\n",
       "       [65.   ,  0.   ,  0.   ,  1.   , 31.876],\n",
       "       [53.   ,  1.   ,  2.   ,  0.   , 14.133],\n",
       "       [46.   ,  1.   ,  2.   ,  1.   ,  7.285],\n",
       "       [32.   ,  1.   ,  0.   ,  1.   ,  9.445],\n",
       "       [39.   ,  1.   ,  1.   ,  1.   , 13.938],\n",
       "       [39.   ,  0.   ,  2.   ,  1.   ,  9.709],\n",
       "       [15.   ,  1.   ,  2.   ,  0.   ,  9.084],\n",
       "       [73.   ,  0.   ,  2.   ,  0.   , 19.221],\n",
       "       [58.   ,  0.   ,  0.   ,  1.   , 14.239],\n",
       "       [50.   ,  1.   ,  2.   ,  1.   , 15.79 ],\n",
       "       [23.   ,  1.   ,  2.   ,  0.   , 12.26 ],\n",
       "       [50.   ,  0.   ,  2.   ,  1.   , 12.295],\n",
       "       [66.   ,  0.   ,  2.   ,  1.   ,  8.107],\n",
       "       [37.   ,  0.   ,  0.   ,  0.   , 13.091],\n",
       "       [68.   ,  1.   ,  1.   ,  0.   , 10.291],\n",
       "       [23.   ,  1.   ,  2.   ,  0.   , 31.686],\n",
       "       [28.   ,  0.   ,  1.   ,  0.   , 19.796],\n",
       "       [58.   ,  0.   ,  0.   ,  0.   , 19.416],\n",
       "       [67.   ,  1.   ,  2.   ,  1.   , 10.898],\n",
       "       [62.   ,  1.   ,  1.   ,  1.   , 27.183],\n",
       "       [24.   ,  0.   ,  0.   ,  1.   , 18.457],\n",
       "       [68.   ,  0.   ,  0.   ,  1.   , 10.189],\n",
       "       [26.   ,  0.   ,  1.   ,  0.   , 14.16 ],\n",
       "       [65.   ,  1.   ,  0.   ,  1.   , 11.34 ],\n",
       "       [40.   ,  1.   ,  0.   ,  0.   , 27.826],\n",
       "       [60.   ,  1.   ,  2.   ,  1.   , 10.091],\n",
       "       [34.   ,  1.   ,  0.   ,  0.   , 18.703],\n",
       "       [38.   ,  0.   ,  1.   ,  1.   , 29.875],\n",
       "       [24.   ,  1.   ,  0.   ,  1.   ,  9.475],\n",
       "       [67.   ,  1.   ,  1.   ,  1.   , 20.693],\n",
       "       [45.   ,  1.   ,  1.   ,  1.   ,  8.37 ],\n",
       "       [60.   ,  0.   ,  0.   ,  0.   , 13.303],\n",
       "       [68.   ,  0.   ,  2.   ,  1.   , 27.05 ],\n",
       "       [29.   ,  1.   ,  0.   ,  0.   , 12.856],\n",
       "       [17.   ,  1.   ,  2.   ,  1.   , 10.832],\n",
       "       [54.   ,  1.   ,  2.   ,  0.   , 24.658],\n",
       "       [18.   ,  0.   ,  0.   ,  1.   , 24.276],\n",
       "       [70.   ,  1.   ,  0.   ,  0.   , 13.967],\n",
       "       [28.   ,  0.   ,  2.   ,  0.   , 19.675],\n",
       "       [24.   ,  0.   ,  2.   ,  0.   , 10.605],\n",
       "       [41.   ,  0.   ,  2.   ,  1.   , 22.905],\n",
       "       [31.   ,  1.   ,  0.   ,  1.   , 17.069],\n",
       "       [26.   ,  1.   ,  1.   ,  1.   , 20.909],\n",
       "       [36.   ,  0.   ,  0.   ,  0.   , 11.198],\n",
       "       [26.   ,  0.   ,  0.   ,  1.   , 19.161],\n",
       "       [19.   ,  0.   ,  0.   ,  0.   , 13.313],\n",
       "       [32.   ,  0.   ,  1.   ,  1.   , 10.84 ],\n",
       "       [60.   ,  1.   ,  0.   ,  0.   , 13.934],\n",
       "       [64.   ,  1.   ,  2.   ,  0.   ,  7.761],\n",
       "       [32.   ,  0.   ,  1.   ,  0.   ,  9.712],\n",
       "       [38.   ,  0.   ,  0.   ,  1.   , 11.326],\n",
       "       [47.   ,  0.   ,  1.   ,  0.   , 10.067],\n",
       "       [59.   ,  1.   ,  0.   ,  0.   , 13.935],\n",
       "       [51.   ,  0.   ,  2.   ,  0.   , 13.597],\n",
       "       [69.   ,  1.   ,  1.   ,  0.   , 15.478],\n",
       "       [37.   ,  0.   ,  0.   ,  1.   , 23.091],\n",
       "       [50.   ,  0.   ,  2.   ,  1.   , 17.211],\n",
       "       [62.   ,  1.   ,  2.   ,  0.   , 16.594],\n",
       "       [41.   ,  1.   ,  0.   ,  1.   , 15.156],\n",
       "       [29.   ,  0.   ,  0.   ,  0.   , 29.45 ],\n",
       "       [42.   ,  0.   ,  1.   ,  1.   , 29.271],\n",
       "       [56.   ,  1.   ,  1.   ,  0.   , 15.015],\n",
       "       [36.   ,  1.   ,  1.   ,  1.   , 11.424],\n",
       "       [58.   ,  0.   ,  1.   ,  0.   , 38.247],\n",
       "       [56.   ,  0.   ,  0.   ,  0.   , 25.395],\n",
       "       [20.   ,  1.   ,  0.   ,  1.   , 35.639],\n",
       "       [15.   ,  0.   ,  0.   ,  1.   , 16.725],\n",
       "       [31.   ,  1.   ,  0.   ,  1.   , 11.871],\n",
       "       [45.   ,  0.   ,  0.   ,  0.   , 12.854],\n",
       "       [28.   ,  0.   ,  1.   ,  0.   , 13.127],\n",
       "       [56.   ,  1.   ,  2.   ,  0.   ,  8.966],\n",
       "       [22.   ,  1.   ,  0.   ,  1.   , 28.294],\n",
       "       [37.   ,  1.   ,  1.   ,  1.   ,  8.968],\n",
       "       [22.   ,  1.   ,  2.   ,  0.   , 11.953],\n",
       "       [42.   ,  1.   ,  1.   ,  0.   , 20.013],\n",
       "       [72.   ,  1.   ,  0.   ,  1.   ,  9.677],\n",
       "       [23.   ,  1.   ,  2.   ,  0.   , 16.85 ],\n",
       "       [50.   ,  1.   ,  0.   ,  0.   ,  7.49 ],\n",
       "       [47.   ,  0.   ,  2.   ,  1.   ,  6.683],\n",
       "       [35.   ,  1.   ,  1.   ,  1.   ,  9.17 ],\n",
       "       [65.   ,  0.   ,  1.   ,  1.   , 13.769],\n",
       "       [20.   ,  0.   ,  2.   ,  1.   ,  9.281],\n",
       "       [51.   ,  1.   ,  0.   ,  0.   , 18.295],\n",
       "       [67.   ,  1.   ,  2.   ,  1.   ,  9.514],\n",
       "       [40.   ,  0.   ,  2.   ,  0.   , 10.103],\n",
       "       [32.   ,  0.   ,  0.   ,  1.   , 10.292],\n",
       "       [61.   ,  0.   ,  0.   ,  0.   , 25.475],\n",
       "       [28.   ,  1.   ,  2.   ,  0.   , 27.064],\n",
       "       [15.   ,  1.   ,  0.   ,  1.   , 17.206],\n",
       "       [34.   ,  1.   ,  2.   ,  0.   , 22.456],\n",
       "       [36.   ,  0.   ,  2.   ,  0.   , 16.753],\n",
       "       [53.   ,  0.   ,  0.   ,  1.   , 12.495],\n",
       "       [19.   ,  0.   ,  0.   ,  1.   , 25.969],\n",
       "       [66.   ,  1.   ,  0.   ,  0.   , 16.347],\n",
       "       [35.   ,  1.   ,  2.   ,  1.   ,  7.845],\n",
       "       [47.   ,  1.   ,  1.   ,  1.   , 33.542],\n",
       "       [32.   ,  0.   ,  2.   ,  0.   ,  7.477],\n",
       "       [70.   ,  0.   ,  2.   ,  0.   , 20.489],\n",
       "       [52.   ,  1.   ,  1.   ,  1.   , 32.922],\n",
       "       [49.   ,  1.   ,  1.   ,  1.   , 13.598],\n",
       "       [24.   ,  1.   ,  2.   ,  0.   , 25.786],\n",
       "       [42.   ,  0.   ,  0.   ,  0.   , 21.036],\n",
       "       [74.   ,  1.   ,  1.   ,  1.   , 11.939],\n",
       "       [55.   ,  0.   ,  0.   ,  0.   , 10.977],\n",
       "       [35.   ,  0.   ,  0.   ,  0.   , 12.894],\n",
       "       [51.   ,  1.   ,  0.   ,  1.   , 11.343],\n",
       "       [69.   ,  0.   ,  2.   ,  0.   , 10.065],\n",
       "       [49.   ,  1.   ,  0.   ,  1.   ,  6.269],\n",
       "       [64.   ,  0.   ,  1.   ,  1.   , 25.741],\n",
       "       [60.   ,  1.   ,  0.   ,  1.   ,  8.621],\n",
       "       [74.   ,  1.   ,  0.   ,  1.   , 15.436],\n",
       "       [39.   ,  1.   ,  0.   ,  0.   ,  9.664],\n",
       "       [61.   ,  1.   ,  2.   ,  0.   ,  9.443],\n",
       "       [37.   ,  0.   ,  1.   ,  1.   , 12.006],\n",
       "       [26.   ,  0.   ,  0.   ,  1.   , 12.307],\n",
       "       [61.   ,  0.   ,  1.   ,  1.   ,  7.34 ],\n",
       "       [22.   ,  1.   ,  1.   ,  0.   ,  8.151],\n",
       "       [49.   ,  1.   ,  0.   ,  1.   ,  8.7  ],\n",
       "       [68.   ,  1.   ,  0.   ,  0.   , 11.009],\n",
       "       [55.   ,  1.   ,  2.   ,  1.   ,  7.261],\n",
       "       [72.   ,  0.   ,  1.   ,  1.   , 14.642],\n",
       "       [37.   ,  1.   ,  1.   ,  1.   , 16.724],\n",
       "       [49.   ,  1.   ,  1.   ,  0.   , 10.537],\n",
       "       [31.   ,  1.   ,  0.   ,  1.   , 11.227],\n",
       "       [53.   ,  1.   ,  1.   ,  0.   , 22.963],\n",
       "       [59.   ,  0.   ,  1.   ,  0.   , 10.444],\n",
       "       [34.   ,  0.   ,  1.   ,  1.   , 12.923],\n",
       "       [30.   ,  0.   ,  2.   ,  0.   , 10.443],\n",
       "       [57.   ,  0.   ,  0.   ,  1.   ,  9.945],\n",
       "       [43.   ,  1.   ,  2.   ,  1.   , 12.859],\n",
       "       [21.   ,  0.   ,  0.   ,  1.   , 28.632],\n",
       "       [16.   ,  1.   ,  0.   ,  1.   , 19.007],\n",
       "       [38.   ,  1.   ,  1.   ,  0.   , 18.295],\n",
       "       [58.   ,  0.   ,  1.   ,  0.   , 26.645],\n",
       "       [57.   ,  0.   ,  2.   ,  0.   , 14.216],\n",
       "       [51.   ,  0.   ,  1.   ,  1.   , 23.003],\n",
       "       [20.   ,  0.   ,  0.   ,  0.   , 11.262],\n",
       "       [28.   ,  0.   ,  2.   ,  0.   , 12.879],\n",
       "       [45.   ,  1.   ,  1.   ,  1.   , 10.017],\n",
       "       [39.   ,  0.   ,  2.   ,  1.   , 17.225],\n",
       "       [41.   ,  0.   ,  1.   ,  1.   , 18.739],\n",
       "       [42.   ,  1.   ,  0.   ,  1.   , 12.766],\n",
       "       [73.   ,  0.   ,  0.   ,  0.   , 18.348],\n",
       "       [48.   ,  1.   ,  0.   ,  1.   , 10.446],\n",
       "       [25.   ,  1.   ,  2.   ,  0.   , 19.011],\n",
       "       [39.   ,  1.   ,  2.   ,  0.   , 15.969],\n",
       "       [67.   ,  0.   ,  2.   ,  0.   , 15.891],\n",
       "       [22.   ,  0.   ,  0.   ,  1.   , 22.818],\n",
       "       [59.   ,  0.   ,  2.   ,  0.   , 13.884],\n",
       "       [20.   ,  0.   ,  1.   ,  1.   , 11.686],\n",
       "       [36.   ,  0.   ,  0.   ,  1.   , 15.49 ],\n",
       "       [18.   ,  0.   ,  0.   ,  0.   , 37.188],\n",
       "       [57.   ,  0.   ,  2.   ,  1.   , 25.893],\n",
       "       [70.   ,  1.   ,  0.   ,  0.   ,  9.849],\n",
       "       [47.   ,  1.   ,  0.   ,  0.   , 10.403],\n",
       "       [65.   ,  1.   ,  0.   ,  1.   , 34.997],\n",
       "       [64.   ,  1.   ,  0.   ,  1.   , 20.932],\n",
       "       [58.   ,  1.   ,  0.   ,  0.   , 18.991],\n",
       "       [23.   ,  1.   ,  0.   ,  0.   ,  8.011],\n",
       "       [72.   ,  1.   ,  1.   ,  0.   , 16.31 ],\n",
       "       [72.   ,  1.   ,  1.   ,  0.   ,  6.769],\n",
       "       [46.   ,  0.   ,  0.   ,  0.   , 34.686],\n",
       "       [56.   ,  0.   ,  1.   ,  0.   , 11.567],\n",
       "       [16.   ,  1.   ,  1.   ,  0.   , 12.006],\n",
       "       [52.   ,  1.   ,  2.   ,  0.   ,  9.894],\n",
       "       [23.   ,  1.   ,  2.   ,  1.   , 14.02 ],\n",
       "       [40.   ,  0.   ,  1.   ,  1.   , 11.349]])"
      ]
     },
     "execution_count": 66,
     "metadata": {},
     "output_type": "execute_result"
    }
   ],
   "source": [
    "x"
   ]
  },
  {
   "cell_type": "code",
   "execution_count": 67,
   "metadata": {},
   "outputs": [],
   "source": [
    "y=df.iloc[:5].values"
   ]
  },
  {
   "cell_type": "code",
   "execution_count": 68,
   "metadata": {},
   "outputs": [
    {
     "data": {
      "text/plain": [
       "array([[23, 'F', 'HIGH', 'HIGH', 25.355, 'drugY'],\n",
       "       [47, 'M', 'LOW', 'HIGH', 13.093, 'drugC'],\n",
       "       [47, 'M', 'LOW', 'HIGH', 10.113999999999999, 'drugC'],\n",
       "       [28, 'F', 'NORMAL', 'HIGH', 7.797999999999999, 'drugX'],\n",
       "       [61, 'F', 'LOW', 'HIGH', 18.043, 'drugY']], dtype=object)"
      ]
     },
     "execution_count": 68,
     "metadata": {},
     "output_type": "execute_result"
    }
   ],
   "source": [
    "y"
   ]
  },
  {
   "cell_type": "code",
   "execution_count": 69,
   "metadata": {},
   "outputs": [],
   "source": [
    "from sklearn.preprocessing import LabelEncoder"
   ]
  },
  {
   "cell_type": "code",
   "execution_count": 70,
   "metadata": {},
   "outputs": [],
   "source": [
    "enc=LabelEncoder()"
   ]
  },
  {
   "cell_type": "code",
   "execution_count": 71,
   "metadata": {},
   "outputs": [
    {
     "data": {
      "text/plain": [
       "LabelEncoder()"
      ]
     },
     "execution_count": 71,
     "metadata": {},
     "output_type": "execute_result"
    }
   ],
   "source": [
    "enc.fit(df.Sex)"
   ]
  },
  {
   "cell_type": "code",
   "execution_count": 72,
   "metadata": {},
   "outputs": [
    {
     "data": {
      "text/plain": [
       "LabelEncoder()"
      ]
     },
     "execution_count": 72,
     "metadata": {},
     "output_type": "execute_result"
    }
   ],
   "source": [
    "enc"
   ]
  },
  {
   "cell_type": "code",
   "execution_count": 73,
   "metadata": {},
   "outputs": [],
   "source": [
    "df.Sex=enc.transform(df.Sex)"
   ]
  },
  {
   "cell_type": "code",
   "execution_count": 74,
   "metadata": {},
   "outputs": [
    {
     "data": {
      "text/plain": [
       "0      0\n",
       "1      1\n",
       "2      1\n",
       "3      0\n",
       "4      0\n",
       "      ..\n",
       "195    0\n",
       "196    1\n",
       "197    1\n",
       "198    1\n",
       "199    0\n",
       "Name: Sex, Length: 200, dtype: int32"
      ]
     },
     "execution_count": 74,
     "metadata": {},
     "output_type": "execute_result"
    }
   ],
   "source": [
    "df.Sex"
   ]
  },
  {
   "cell_type": "code",
   "execution_count": 75,
   "metadata": {},
   "outputs": [],
   "source": [
    "df.BP=enc.fit_transform(df.BP)"
   ]
  },
  {
   "cell_type": "code",
   "execution_count": 76,
   "metadata": {},
   "outputs": [],
   "source": [
    "df.Cholesterol=enc.fit_transform(df.Cholesterol)"
   ]
  },
  {
   "cell_type": "code",
   "execution_count": 77,
   "metadata": {},
   "outputs": [
    {
     "data": {
      "text/html": [
       "<div>\n",
       "<style scoped>\n",
       "    .dataframe tbody tr th:only-of-type {\n",
       "        vertical-align: middle;\n",
       "    }\n",
       "\n",
       "    .dataframe tbody tr th {\n",
       "        vertical-align: top;\n",
       "    }\n",
       "\n",
       "    .dataframe thead th {\n",
       "        text-align: right;\n",
       "    }\n",
       "</style>\n",
       "<table border=\"1\" class=\"dataframe\">\n",
       "  <thead>\n",
       "    <tr style=\"text-align: right;\">\n",
       "      <th></th>\n",
       "      <th>Age</th>\n",
       "      <th>Sex</th>\n",
       "      <th>BP</th>\n",
       "      <th>Cholesterol</th>\n",
       "      <th>Na_to_K</th>\n",
       "      <th>Drug</th>\n",
       "    </tr>\n",
       "  </thead>\n",
       "  <tbody>\n",
       "    <tr>\n",
       "      <th>0</th>\n",
       "      <td>23</td>\n",
       "      <td>0</td>\n",
       "      <td>0</td>\n",
       "      <td>0</td>\n",
       "      <td>25.355</td>\n",
       "      <td>drugY</td>\n",
       "    </tr>\n",
       "    <tr>\n",
       "      <th>1</th>\n",
       "      <td>47</td>\n",
       "      <td>1</td>\n",
       "      <td>1</td>\n",
       "      <td>0</td>\n",
       "      <td>13.093</td>\n",
       "      <td>drugC</td>\n",
       "    </tr>\n",
       "    <tr>\n",
       "      <th>2</th>\n",
       "      <td>47</td>\n",
       "      <td>1</td>\n",
       "      <td>1</td>\n",
       "      <td>0</td>\n",
       "      <td>10.114</td>\n",
       "      <td>drugC</td>\n",
       "    </tr>\n",
       "    <tr>\n",
       "      <th>3</th>\n",
       "      <td>28</td>\n",
       "      <td>0</td>\n",
       "      <td>2</td>\n",
       "      <td>0</td>\n",
       "      <td>7.798</td>\n",
       "      <td>drugX</td>\n",
       "    </tr>\n",
       "    <tr>\n",
       "      <th>4</th>\n",
       "      <td>61</td>\n",
       "      <td>0</td>\n",
       "      <td>1</td>\n",
       "      <td>0</td>\n",
       "      <td>18.043</td>\n",
       "      <td>drugY</td>\n",
       "    </tr>\n",
       "    <tr>\n",
       "      <th>...</th>\n",
       "      <td>...</td>\n",
       "      <td>...</td>\n",
       "      <td>...</td>\n",
       "      <td>...</td>\n",
       "      <td>...</td>\n",
       "      <td>...</td>\n",
       "    </tr>\n",
       "    <tr>\n",
       "      <th>195</th>\n",
       "      <td>56</td>\n",
       "      <td>0</td>\n",
       "      <td>1</td>\n",
       "      <td>0</td>\n",
       "      <td>11.567</td>\n",
       "      <td>drugC</td>\n",
       "    </tr>\n",
       "    <tr>\n",
       "      <th>196</th>\n",
       "      <td>16</td>\n",
       "      <td>1</td>\n",
       "      <td>1</td>\n",
       "      <td>0</td>\n",
       "      <td>12.006</td>\n",
       "      <td>drugC</td>\n",
       "    </tr>\n",
       "    <tr>\n",
       "      <th>197</th>\n",
       "      <td>52</td>\n",
       "      <td>1</td>\n",
       "      <td>2</td>\n",
       "      <td>0</td>\n",
       "      <td>9.894</td>\n",
       "      <td>drugX</td>\n",
       "    </tr>\n",
       "    <tr>\n",
       "      <th>198</th>\n",
       "      <td>23</td>\n",
       "      <td>1</td>\n",
       "      <td>2</td>\n",
       "      <td>1</td>\n",
       "      <td>14.020</td>\n",
       "      <td>drugX</td>\n",
       "    </tr>\n",
       "    <tr>\n",
       "      <th>199</th>\n",
       "      <td>40</td>\n",
       "      <td>0</td>\n",
       "      <td>1</td>\n",
       "      <td>1</td>\n",
       "      <td>11.349</td>\n",
       "      <td>drugX</td>\n",
       "    </tr>\n",
       "  </tbody>\n",
       "</table>\n",
       "<p>200 rows × 6 columns</p>\n",
       "</div>"
      ],
      "text/plain": [
       "     Age  Sex  BP  Cholesterol  Na_to_K   Drug\n",
       "0     23    0   0            0   25.355  drugY\n",
       "1     47    1   1            0   13.093  drugC\n",
       "2     47    1   1            0   10.114  drugC\n",
       "3     28    0   2            0    7.798  drugX\n",
       "4     61    0   1            0   18.043  drugY\n",
       "..   ...  ...  ..          ...      ...    ...\n",
       "195   56    0   1            0   11.567  drugC\n",
       "196   16    1   1            0   12.006  drugC\n",
       "197   52    1   2            0    9.894  drugX\n",
       "198   23    1   2            1   14.020  drugX\n",
       "199   40    0   1            1   11.349  drugX\n",
       "\n",
       "[200 rows x 6 columns]"
      ]
     },
     "execution_count": 77,
     "metadata": {},
     "output_type": "execute_result"
    }
   ],
   "source": [
    "df"
   ]
  },
  {
   "cell_type": "code",
   "execution_count": 78,
   "metadata": {},
   "outputs": [],
   "source": [
    "x=df.iloc[:,[0,1,2,3,4]].values\n",
    "y=df.iloc[:,5].values"
   ]
  },
  {
   "cell_type": "code",
   "execution_count": 79,
   "metadata": {},
   "outputs": [],
   "source": [
    "from sklearn.model_selection import train_test_split"
   ]
  },
  {
   "cell_type": "code",
   "execution_count": 80,
   "metadata": {},
   "outputs": [],
   "source": [
    "x_train,x_test,y_train,y_test=train_test_split(x,y,random_state=3)\n"
   ]
  },
  {
   "cell_type": "code",
   "execution_count": 81,
   "metadata": {},
   "outputs": [],
   "source": [
    "from sklearn.tree import DecisionTreeClassifier\n",
    "model=DecisionTreeClassifier(criterion=\"entropy\", max_depth = 4)"
   ]
  },
  {
   "cell_type": "code",
   "execution_count": 82,
   "metadata": {},
   "outputs": [
    {
     "data": {
      "text/plain": [
       "DecisionTreeClassifier(ccp_alpha=0.0, class_weight=None, criterion='entropy',\n",
       "                       max_depth=4, max_features=None, max_leaf_nodes=None,\n",
       "                       min_impurity_decrease=0.0, min_impurity_split=None,\n",
       "                       min_samples_leaf=1, min_samples_split=2,\n",
       "                       min_weight_fraction_leaf=0.0, presort='deprecated',\n",
       "                       random_state=None, splitter='best')"
      ]
     },
     "execution_count": 82,
     "metadata": {},
     "output_type": "execute_result"
    }
   ],
   "source": [
    "model.fit(x_train,y_train)"
   ]
  },
  {
   "cell_type": "code",
   "execution_count": 83,
   "metadata": {},
   "outputs": [],
   "source": [
    "y_pred=model.predict(x_test)"
   ]
  },
  {
   "cell_type": "code",
   "execution_count": 84,
   "metadata": {},
   "outputs": [
    {
     "data": {
      "text/plain": [
       "array(['drugY', 'drugX', 'drugX', 'drugX', 'drugX', 'drugC', 'drugY',\n",
       "       'drugA', 'drugB', 'drugA', 'drugY', 'drugA', 'drugY', 'drugY',\n",
       "       'drugX', 'drugY', 'drugX', 'drugX', 'drugB', 'drugX', 'drugX',\n",
       "       'drugY', 'drugY', 'drugY', 'drugX', 'drugB', 'drugY', 'drugY',\n",
       "       'drugA', 'drugX', 'drugB', 'drugC', 'drugC', 'drugX', 'drugX',\n",
       "       'drugC', 'drugY', 'drugX', 'drugX', 'drugX', 'drugA', 'drugY',\n",
       "       'drugC', 'drugY', 'drugA', 'drugY', 'drugY', 'drugY', 'drugY',\n",
       "       'drugY'], dtype=object)"
      ]
     },
     "execution_count": 84,
     "metadata": {},
     "output_type": "execute_result"
    }
   ],
   "source": [
    "y_pred"
   ]
  },
  {
   "cell_type": "code",
   "execution_count": 85,
   "metadata": {},
   "outputs": [
    {
     "data": {
      "text/plain": [
       "98.0"
      ]
     },
     "execution_count": 85,
     "metadata": {},
     "output_type": "execute_result"
    }
   ],
   "source": [
    "model.score(x_test,y_test)*100"
   ]
  },
  {
   "cell_type": "code",
   "execution_count": 86,
   "metadata": {},
   "outputs": [
    {
     "data": {
      "text/plain": [
       "(150, 5)"
      ]
     },
     "execution_count": 86,
     "metadata": {},
     "output_type": "execute_result"
    }
   ],
   "source": [
    "x_train.shape"
   ]
  },
  {
   "cell_type": "code",
   "execution_count": 87,
   "metadata": {},
   "outputs": [
    {
     "data": {
      "text/plain": [
       "Text(0, 0.5, 'drug')"
      ]
     },
     "execution_count": 87,
     "metadata": {},
     "output_type": "execute_result"
    },
    {
     "data": {
      "image/png": "[encoded data removed]",
      "text/plain": [
       "<Figure size 432x288 with 1 Axes>"
      ]
     },
     "metadata": {
      "needs_background": "light"
     },
     "output_type": "display_data"
    }
   ],
   "source": [
    "import matplotlib.pyplot as plt\n",
    "plt.bar(x[:,4],y,width=0.03,color=['r','g','b','y'])\n",
    "plt.xticks([0,5,10,15])\n",
    "plt.xlabel('na to k')\n",
    "plt.ylabel('drug')"
   ]
  },
  {
   "cell_type": "code",
   "execution_count": 88,
   "metadata": {},
   "outputs": [],
   "source": [
    "from sklearn.svm import SVC"
   ]
  },
  {
   "cell_type": "code",
   "execution_count": 89,
   "metadata": {},
   "outputs": [],
   "source": [
    "model=SVC()"
   ]
  },
  {
   "cell_type": "code",
   "execution_count": 90,
   "metadata": {},
   "outputs": [
    {
     "data": {
      "text/plain": [
       "SVC(C=1.0, break_ties=False, cache_size=200, class_weight=None, coef0=0.0,\n",
       "    decision_function_shape='ovr', degree=3, gamma='scale', kernel='rbf',\n",
       "    max_iter=-1, probability=False, random_state=None, shrinking=True,\n",
       "    tol=0.001, verbose=False)"
      ]
     },
     "execution_count": 90,
     "metadata": {},
     "output_type": "execute_result"
    }
   ],
   "source": [
    "model.fit(x_train,y_train)"
   ]
  },
  {
   "cell_type": "code",
   "execution_count": 91,
   "metadata": {},
   "outputs": [
    {
     "data": {
      "text/plain": [
       "68.0"
      ]
     },
     "execution_count": 91,
     "metadata": {},
     "output_type": "execute_result"
    }
   ],
   "source": [
    "model.score(x_test,y_test)*100"
   ]
  },
  {
   "cell_type": "code",
   "execution_count": 92,
   "metadata": {},
   "outputs": [],
   "source": [
    "y_pred=model.predict([[23,1,1,1,23]])"
   ]
  },
  {
   "cell_type": "code",
   "execution_count": 93,
   "metadata": {},
   "outputs": [
    {
     "data": {
      "text/plain": [
       "array(['drugY'], dtype=object)"
      ]
     },
     "execution_count": 93,
     "metadata": {},
     "output_type": "execute_result"
    }
   ],
   "source": [
    "y_pred"
   ]
  },
  {
   "cell_type": "code",
   "execution_count": 101,
   "metadata": {},
   "outputs": [],
   "source": [
    "from sklearn.neighbors import KNeighborsClassifier"
   ]
  },
  {
   "cell_type": "code",
   "execution_count": 102,
   "metadata": {},
   "outputs": [],
   "source": [
    "model=KNeighborsClassifier(n_neighbors=3,metric=\"euclidean\")"
   ]
  },
  {
   "cell_type": "code",
   "execution_count": 103,
   "metadata": {},
   "outputs": [
    {
     "data": {
      "text/plain": [
       "KNeighborsClassifier(algorithm='auto', leaf_size=30, metric='euclidean',\n",
       "                     metric_params=None, n_jobs=None, n_neighbors=3, p=2,\n",
       "                     weights='uniform')"
      ]
     },
     "execution_count": 103,
     "metadata": {},
     "output_type": "execute_result"
    }
   ],
   "source": [
    "model.fit(x_train,y_train)"
   ]
  },
  {
   "cell_type": "code",
   "execution_count": 104,
   "metadata": {},
   "outputs": [
    {
     "data": {
      "text/plain": [
       "66.0"
      ]
     },
     "execution_count": 104,
     "metadata": {},
     "output_type": "execute_result"
    }
   ],
   "source": [
    "model.score(x_test,y_test)*100"
   ]
  },
  {
   "cell_type": "code",
   "execution_count": null,
   "metadata": {},
   "outputs": [],
   "source": []
  },
  {
   "cell_type": "code",
   "execution_count": null,
   "metadata": {},
   "outputs": [],
   "source": []
  }
 ],
 "metadata": {
  "kernelspec": {
   "display_name": "Python 3",
   "language": "python",
   "name": "python3"
  },
  "language_info": {
   "codemirror_mode": {
    "name": "ipython",
    "version": 3
   },
   "file_extension": ".py",
   "mimetype": "text/x-python",
   "name": "python",
   "nbconvert_exporter": "python",
   "pygments_lexer": "ipython3",
   "version": "3.7.1"
  }
 },
 "nbformat": 4,
 "nbformat_minor": 4
}
